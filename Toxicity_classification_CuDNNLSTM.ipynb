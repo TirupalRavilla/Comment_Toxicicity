{
  "nbformat": 4,
  "nbformat_minor": 0,
  "metadata": {
    "colab": {
      "name": "toxicity CuDNNLSTM.ipynb",
      "version": "0.3.2",
      "provenance": [],
      "collapsed_sections": []
    },
    "kernelspec": {
      "name": "python3",
      "display_name": "Python 3"
    },
    "accelerator": "GPU"
  },
  "cells": [
    {
      "cell_type": "code",
      "metadata": {
        "id": "VngaIqK5HAoj",
        "colab_type": "code",
        "colab": {}
      },
      "source": [
        "import tensorflow as tf\n",
        "\n",
        "from keras.preprocessing.text import Tokenizer\n",
        "from keras.preprocessing.sequence import pad_sequences\n",
        "from keras.models import Sequential\n",
        "from keras.layers import Dense, Flatten, LSTM, Conv1D, MaxPooling1D, Dropout, Activation, CuDNNLSTM, Bidirectional\n",
        "from keras.layers.embeddings import Embedding\n",
        "from keras.callbacks import ModelCheckpoint\n",
        "from keras import optimizers\n",
        "from keras import initializers as init\n",
        "\n",
        "# from tensorflow.keras.backend import set_session\n",
        "import keras.backend as K\n",
        "import nltk\n",
        "import string\n",
        "import numpy as np\n",
        "import pandas as pd\n",
        "import re\n",
        "from tqdm import tqdm\n"
      ],
      "execution_count": 0,
      "outputs": []
    },
    {
      "cell_type": "code",
      "metadata": {
        "id": "i-C5MrZ1XH84",
        "colab_type": "code",
        "colab": {}
      },
      "source": [
        "def binary(y):\n",
        "  if y>=0.5:\n",
        "      return 1\n",
        "  else:\n",
        "      return 0\n",
        "def preprocess(text):\n",
        "  text = re.sub(r'\\W+',' ',text.lower())\n",
        "  return text\n",
        "  "
      ],
      "execution_count": 0,
      "outputs": []
    },
    {
      "cell_type": "code",
      "metadata": {
        "id": "ks617QanKUlH",
        "colab_type": "code",
        "outputId": "24a1f2fd-e8e8-4153-a7a5-a22f632f3265",
        "colab": {
          "base_uri": "https://localhost:8080/",
          "height": 121
        }
      },
      "source": [
        "from google.colab import drive\n",
        "drive.mount('/content/gdrive')"
      ],
      "execution_count": 8,
      "outputs": [
        {
          "output_type": "stream",
          "text": [
            "Go to this URL in a browser: https://accounts.google.com/o/oauth2/auth?client_id=947318989803-6bn6qk8qdgf4n4g3pfee6491hc0brc4i.apps.googleusercontent.com&redirect_uri=urn%3Aietf%3Awg%3Aoauth%3A2.0%3Aoob&scope=email%20https%3A%2F%2Fwww.googleapis.com%2Fauth%2Fdocs.test%20https%3A%2F%2Fwww.googleapis.com%2Fauth%2Fdrive%20https%3A%2F%2Fwww.googleapis.com%2Fauth%2Fdrive.photos.readonly%20https%3A%2F%2Fwww.googleapis.com%2Fauth%2Fpeopleapi.readonly&response_type=code\n",
            "\n",
            "Enter your authorization code:\n",
            "··········\n",
            "Mounted at /content/gdrive\n"
          ],
          "name": "stdout"
        }
      ]
    },
    {
      "cell_type": "code",
      "metadata": {
        "id": "9KtSlCBpKbMK",
        "colab_type": "code",
        "colab": {}
      },
      "source": [
        "datapath = 'gdrive/My Drive/data/'"
      ],
      "execution_count": 0,
      "outputs": []
    },
    {
      "cell_type": "code",
      "metadata": {
        "id": "90Useo7XO4W1",
        "colab_type": "code",
        "colab": {}
      },
      "source": [
        "df = pd.read_csv(datapath+'ml/train.csv')\n",
        "\n"
      ],
      "execution_count": 0,
      "outputs": []
    },
    {
      "cell_type": "code",
      "metadata": {
        "id": "2xXbiLVnm0VI",
        "colab_type": "code",
        "outputId": "5ab24a36-2b54-47b1-9950-6480e87fbdd1",
        "colab": {
          "base_uri": "https://localhost:8080/",
          "height": 34
        }
      },
      "source": [
        "df.shape"
      ],
      "execution_count": 11,
      "outputs": [
        {
          "output_type": "execute_result",
          "data": {
            "text/plain": [
              "(1804874, 45)"
            ]
          },
          "metadata": {
            "tags": []
          },
          "execution_count": 11
        }
      ]
    },
    {
      "cell_type": "code",
      "metadata": {
        "id": "bgDgq4776YnP",
        "colab_type": "code",
        "colab": {}
      },
      "source": [
        "x = df['comment_text'].apply(preprocess)\n",
        "y = df['target'].apply(binary)"
      ],
      "execution_count": 0,
      "outputs": []
    },
    {
      "cell_type": "code",
      "metadata": {
        "id": "mJuhe87EXHXn",
        "colab_type": "code",
        "outputId": "6efcff4a-1c82-4919-efc5-deecfc5ea30c",
        "colab": {
          "base_uri": "https://localhost:8080/",
          "height": 235
        }
      },
      "source": [
        "print(x.head())\n",
        "print(y.head())\n",
        "print(len(x),len(y))"
      ],
      "execution_count": 13,
      "outputs": [
        {
          "output_type": "stream",
          "text": [
            "0    this is so cool it s like would you want your ...\n",
            "1    thank you this would make my life a lot less a...\n",
            "2    this is such an urgent design problem kudos to...\n",
            "3    is this something i ll be able to install on m...\n",
            "4                 haha you guys are a bunch of losers \n",
            "Name: comment_text, dtype: object\n",
            "0    0\n",
            "1    0\n",
            "2    0\n",
            "3    0\n",
            "4    1\n",
            "Name: target, dtype: int64\n",
            "1804874 1804874\n"
          ],
          "name": "stdout"
        }
      ]
    },
    {
      "cell_type": "code",
      "metadata": {
        "id": "6LFo1Iwafnvo",
        "colab_type": "code",
        "colab": {}
      },
      "source": [
        "tokenizer = Tokenizer()\n",
        "tokenizer.fit_on_texts(x)"
      ],
      "execution_count": 0,
      "outputs": []
    },
    {
      "cell_type": "code",
      "metadata": {
        "id": "flu9dPuMfuuJ",
        "colab_type": "code",
        "colab": {}
      },
      "source": [
        "vocabulary_size = len(tokenizer.word_index)+1\n"
      ],
      "execution_count": 0,
      "outputs": []
    },
    {
      "cell_type": "code",
      "metadata": {
        "id": "Dh-cLMCvihEX",
        "colab_type": "code",
        "outputId": "e034bd64-34c1-40a1-dea9-ddaed8412530",
        "colab": {
          "base_uri": "https://localhost:8080/",
          "height": 34
        }
      },
      "source": [
        "print(vocabulary_size)"
      ],
      "execution_count": 29,
      "outputs": [
        {
          "output_type": "stream",
          "text": [
            "309012\n"
          ],
          "name": "stdout"
        }
      ]
    },
    {
      "cell_type": "code",
      "metadata": {
        "id": "jrQ-RHoOG7Jf",
        "colab_type": "code",
        "outputId": "040b9746-5bcd-48d2-f80d-4ea9cfbd407a",
        "colab": {
          "base_uri": "https://localhost:8080/",
          "height": 34
        }
      },
      "source": [
        "MAX_LEN=150\n",
        "sequences = tokenizer.texts_to_sequences(x)\n",
        "tr_data = pad_sequences(sequences, maxlen=MAX_LEN)\n",
        "\n",
        "print(len(tr_data))\n"
      ],
      "execution_count": 17,
      "outputs": [
        {
          "output_type": "stream",
          "text": [
            "1804874\n"
          ],
          "name": "stdout"
        }
      ]
    },
    {
      "cell_type": "code",
      "metadata": {
        "id": "-kTnRb5iU4Sw",
        "colab_type": "code",
        "colab": {}
      },
      "source": [
        ""
      ],
      "execution_count": 0,
      "outputs": []
    },
    {
      "cell_type": "code",
      "metadata": {
        "id": "CGKoxGURzgxb",
        "colab_type": "code",
        "outputId": "8b914dfd-91a6-4f1e-bae4-aa10f7ea0b03",
        "colab": {
          "base_uri": "https://localhost:8080/",
          "height": 34
        }
      },
      "source": [
        "f = open(datapath+'glove.6B.300d.txt')\n",
        "embedding_values = {}\n",
        "for line in tqdm(f):\n",
        "  value = line.split(' ')\n",
        "  word = value[0]\n",
        "  coef = np.array(value[1:],dtype = 'float32')\n",
        "  embedding_values[word]=coef"
      ],
      "execution_count": 18,
      "outputs": [
        {
          "output_type": "stream",
          "text": [
            "400000it [00:34, 11596.67it/s]\n"
          ],
          "name": "stderr"
        }
      ]
    },
    {
      "cell_type": "code",
      "metadata": {
        "id": "zu234t4CzsfJ",
        "colab_type": "code",
        "outputId": "f66a3dd0-eecb-48c6-c848-8e7ffa164cae",
        "colab": {
          "base_uri": "https://localhost:8080/",
          "height": 34
        }
      },
      "source": [
        "embedding_matrix = np.zeros((vocabulary_size,300))\n",
        "for word,i in tqdm(tokenizer.word_index.items()):\n",
        "  values = embedding_values.get(word)\n",
        "  if values is not None:\n",
        "    embedding_matrix[i] = values"
      ],
      "execution_count": 19,
      "outputs": [
        {
          "output_type": "stream",
          "text": [
            "100%|██████████| 309011/309011 [00:00<00:00, 604022.48it/s]\n"
          ],
          "name": "stderr"
        }
      ]
    },
    {
      "cell_type": "code",
      "metadata": {
        "id": "YlBal2orkguX",
        "colab_type": "code",
        "colab": {}
      },
      "source": [
        "# config = tf.ConfigProto()\n",
        "# config.gpu_options.per_process_gpu_memory_fraction = 0.3\n",
        "# set_session(tf.Session(config=config))"
      ],
      "execution_count": 0,
      "outputs": []
    },
    {
      "cell_type": "code",
      "metadata": {
        "id": "MNnfi9VZqb95",
        "colab_type": "code",
        "colab": {}
      },
      "source": [
        "from sklearn.model_selection import train_test_split\n",
        "x_train,x_test,y_train,y_test = train_test_split(tr_data,y,test_size = 0.25,random_state = 42)"
      ],
      "execution_count": 0,
      "outputs": []
    },
    {
      "cell_type": "code",
      "metadata": {
        "id": "CT189KK3oNvQ",
        "colab_type": "code",
        "colab": {}
      },
      "source": [
        "# del x,y,tr_data"
      ],
      "execution_count": 0,
      "outputs": []
    },
    {
      "cell_type": "code",
      "metadata": {
        "id": "Rrc-DD8Kx0cA",
        "colab_type": "code",
        "colab": {}
      },
      "source": [
        "import numpy as np\n",
        "import tensorflow as tf\n",
        "import random as rn\n",
        "import os\n",
        "from numpy.random import seed\n",
        "from tensorflow import set_random_seed\n",
        "\n",
        "\n",
        "def session_refresh():\n",
        "  seed(2)\n",
        "  set_random_seed(2)\n",
        "  rn.seed(2)\n",
        "  os.environ['PYTHONHASHSEED'] = '0'\n",
        "  session_conf = tf.ConfigProto(intra_op_parallelism_threads=1, inter_op_parallelism_threads=1)\n",
        "  sess = tf.Session(graph=tf.get_default_graph(), config=session_conf)\n",
        "  K.set_session(sess)\n",
        "  print('refreshed session')"
      ],
      "execution_count": 0,
      "outputs": []
    },
    {
      "cell_type": "code",
      "metadata": {
        "id": "qSO_2MS8a6aJ",
        "colab_type": "code",
        "colab": {}
      },
      "source": [
        "embeddingInit = init.RandomUniform(seed=2)\n",
        "kernelInit = init.glorot_uniform(seed=2)\n",
        "recurrentInit = init.Orthogonal(seed=2)"
      ],
      "execution_count": 0,
      "outputs": []
    },
    {
      "cell_type": "markdown",
      "metadata": {
        "id": "vFPNRyd0F6-4",
        "colab_type": "text"
      },
      "source": [
        ""
      ]
    },
    {
      "cell_type": "code",
      "metadata": {
        "id": "WoL3XrfjKYfY",
        "colab_type": "code",
        "outputId": "9e5e3966-c456-46d6-bf31-11135b4521a0",
        "colab": {
          "base_uri": "https://localhost:8080/",
          "height": 689
        }
      },
      "source": [
        "\n",
        "\n",
        "session_refresh()\n",
        "# K.clear_session()\n",
        "model = Sequential()\n",
        "model.add(Embedding(vocabulary_size,300, input_length = MAX_LEN,weights = [embedding_matrix],trainable = False, embeddings_initializer=embeddingInit))\n",
        "# model.add(Embedding(vocabulary_size, 145, input_length=145))\n",
        "# model.add(Bidirectional(LSTM(145, dropout=0.2, recurrent_dropout=0.2,return_sequences=True),merge_mode='ave'))\n",
        "# model.add(Bidirectional(LSTM(145, dropout=0.2, recurrent_dropout=0.2),merge_mode='ave'))\n",
        "model.add(Bidirectional(CuDNNLSTM(100,return_sequences=True,kernel_initializer=kernelInit,recurrent_initializer=recurrentInit)))#,merge_mode='ave'\n",
        "model.add(Dropout(0.2,seed=2))\n",
        "model.add(Bidirectional(CuDNNLSTM(100,kernel_initializer=kernelInit,recurrent_initializer=recurrentInit)))\n",
        "model.add(Dropout(0.2,seed=2))\n",
        "model.add(Dense(64,activation = 'relu',kernel_initializer=kernelInit))\n",
        "model.add(Dense(1, activation='sigmoid',kernel_initializer=kernelInit))\n",
        "adg = optimizers.Adagrad(lr=0.01)\n",
        "model.compile(loss='binary_crossentropy', optimizer='adam', metrics=['accuracy'])#'adam'\n",
        "\n",
        "filepath=datapath+'ml/models/'+\"tox-ada-relu-best.hdf5\"\n",
        "checkpoint = ModelCheckpoint(filepath, monitor='val_acc', verbose=1, save_best_only=True, mode='max')\n",
        "callbacks_list = [checkpoint]\n",
        "model.summary()\n",
        "# model.fit(tr_data, y, validation_split=0.25, epochs=3,batch_size=128)\n",
        "model.fit(x_train, y_train, validation_data=(x_test,y_test), epochs=4,callbacks=callbacks_list,batch_size=500)"
      ],
      "execution_count": 36,
      "outputs": [
        {
          "output_type": "stream",
          "text": [
            "refreshed session\n",
            "_________________________________________________________________\n",
            "Layer (type)                 Output Shape              Param #   \n",
            "=================================================================\n",
            "embedding_4 (Embedding)      (None, 150, 300)          92703600  \n",
            "_________________________________________________________________\n",
            "bidirectional_7 (Bidirection (None, 150, 200)          321600    \n",
            "_________________________________________________________________\n",
            "dropout_7 (Dropout)          (None, 150, 200)          0         \n",
            "_________________________________________________________________\n",
            "bidirectional_8 (Bidirection (None, 200)               241600    \n",
            "_________________________________________________________________\n",
            "dropout_8 (Dropout)          (None, 200)               0         \n",
            "_________________________________________________________________\n",
            "dense_7 (Dense)              (None, 64)                12864     \n",
            "_________________________________________________________________\n",
            "dense_8 (Dense)              (None, 1)                 65        \n",
            "=================================================================\n",
            "Total params: 93,279,729\n",
            "Trainable params: 576,129\n",
            "Non-trainable params: 92,703,600\n",
            "_________________________________________________________________\n",
            "Train on 1353655 samples, validate on 451219 samples\n",
            "Epoch 1/4\n",
            "1353655/1353655 [==============================] - 495s 365us/step - loss: 0.1502 - acc: 0.9443 - val_loss: 0.1324 - val_acc: 0.9488\n",
            "\n",
            "Epoch 00001: val_acc improved from -inf to 0.94878, saving model to gdrive/My Drive/data/ml/models/tox-ada-relu-best.hdf5\n",
            "Epoch 2/4\n",
            "1353655/1353655 [==============================] - 494s 365us/step - loss: 0.1261 - acc: 0.9510 - val_loss: 0.1267 - val_acc: 0.9501\n",
            "\n",
            "Epoch 00002: val_acc improved from 0.94878 to 0.95014, saving model to gdrive/My Drive/data/ml/models/tox-ada-relu-best.hdf5\n",
            "Epoch 3/4\n",
            "1353655/1353655 [==============================] - 494s 365us/step - loss: 0.1193 - acc: 0.9530 - val_loss: 0.1237 - val_acc: 0.9511\n",
            "\n",
            "Epoch 00003: val_acc improved from 0.95014 to 0.95113, saving model to gdrive/My Drive/data/ml/models/tox-ada-relu-best.hdf5\n",
            "Epoch 4/4\n",
            "1353655/1353655 [==============================] - 493s 365us/step - loss: 0.1140 - acc: 0.9545 - val_loss: 0.1233 - val_acc: 0.9520\n",
            "\n",
            "Epoch 00004: val_acc improved from 0.95113 to 0.95202, saving model to gdrive/My Drive/data/ml/models/tox-ada-relu-best.hdf5\n"
          ],
          "name": "stdout"
        },
        {
          "output_type": "execute_result",
          "data": {
            "text/plain": [
              "<keras.callbacks.History at 0x7f78f345e6d8>"
            ]
          },
          "metadata": {
            "tags": []
          },
          "execution_count": 36
        }
      ]
    },
    {
      "cell_type": "code",
      "metadata": {
        "id": "mxKCaZad4T7p",
        "colab_type": "code",
        "colab": {
          "base_uri": "https://localhost:8080/",
          "height": 689
        },
        "outputId": "77e691d2-183b-485c-ecbe-a062ec84e98f"
      },
      "source": [
        "session_refresh()\n",
        "# K.clear_session()\n",
        "model = Sequential()\n",
        "model.add(Embedding(vocabulary_size,300, input_length = MAX_LEN,weights = [embedding_matrix],trainable = False, embeddings_initializer=embeddingInit))\n",
        "# model.add(Embedding(vocabulary_size, 145, input_length=145))\n",
        "# model.add(Bidirectional(LSTM(145, dropout=0.2, recurrent_dropout=0.2,return_sequences=True),merge_mode='ave'))\n",
        "# model.add(Bidirectional(LSTM(145, dropout=0.2, recurrent_dropout=0.2),merge_mode='ave'))\n",
        "model.add(Bidirectional(CuDNNLSTM(100,return_sequences=True,kernel_initializer=kernelInit,recurrent_initializer=recurrentInit)))#,merge_mode='ave'\n",
        "model.add(Dropout(0.2,seed=2))\n",
        "model.add(Bidirectional(CuDNNLSTM(100,kernel_initializer=kernelInit,recurrent_initializer=recurrentInit)))\n",
        "model.add(Dropout(0.2,seed=2))\n",
        "model.add(Dense(64,activation = 'relu',kernel_initializer=kernelInit))\n",
        "model.add(Dense(1, activation='sigmoid',kernel_initializer=kernelInit))\n",
        "adg = optimizers.Adagrad(lr=0.01)\n",
        "model.compile(loss='binary_crossentropy', optimizer='adam', metrics=['accuracy'])#'adam'\n",
        "\n",
        "filepath=datapath+'ml/models/'+\"tox-ada-relu-best.hdf5\"\n",
        "checkpoint = ModelCheckpoint(filepath, monitor='val_acc', verbose=1, save_best_only=True, mode='max')\n",
        "callbacks_list = [checkpoint]\n",
        "model.summary()\n",
        "# model.fit(tr_data, y, validation_split=0.25, epochs=3,batch_size=128)\n",
        "model.fit(x_train, y_train, validation_data=(x_test,y_test), epochs=4,callbacks=callbacks_list,batch_size=500)"
      ],
      "execution_count": 37,
      "outputs": [
        {
          "output_type": "stream",
          "text": [
            "refreshed session\n",
            "_________________________________________________________________\n",
            "Layer (type)                 Output Shape              Param #   \n",
            "=================================================================\n",
            "embedding_5 (Embedding)      (None, 150, 300)          92703600  \n",
            "_________________________________________________________________\n",
            "bidirectional_9 (Bidirection (None, 150, 200)          321600    \n",
            "_________________________________________________________________\n",
            "dropout_9 (Dropout)          (None, 150, 200)          0         \n",
            "_________________________________________________________________\n",
            "bidirectional_10 (Bidirectio (None, 200)               241600    \n",
            "_________________________________________________________________\n",
            "dropout_10 (Dropout)         (None, 200)               0         \n",
            "_________________________________________________________________\n",
            "dense_9 (Dense)              (None, 64)                12864     \n",
            "_________________________________________________________________\n",
            "dense_10 (Dense)             (None, 1)                 65        \n",
            "=================================================================\n",
            "Total params: 93,279,729\n",
            "Trainable params: 576,129\n",
            "Non-trainable params: 92,703,600\n",
            "_________________________________________________________________\n",
            "Train on 1353655 samples, validate on 451219 samples\n",
            "Epoch 1/4\n",
            "1353655/1353655 [==============================] - 495s 366us/step - loss: 0.1474 - acc: 0.9453 - val_loss: 0.1304 - val_acc: 0.9496\n",
            "\n",
            "Epoch 00001: val_acc improved from -inf to 0.94962, saving model to gdrive/My Drive/data/ml/models/tox-ada-relu-best.hdf5\n",
            "Epoch 2/4\n",
            "1353655/1353655 [==============================] - 494s 365us/step - loss: 0.1250 - acc: 0.9512 - val_loss: 0.1259 - val_acc: 0.9506\n",
            "\n",
            "Epoch 00002: val_acc improved from 0.94962 to 0.95064, saving model to gdrive/My Drive/data/ml/models/tox-ada-relu-best.hdf5\n",
            "Epoch 3/4\n",
            "1353655/1353655 [==============================] - 494s 365us/step - loss: 0.1187 - acc: 0.9531 - val_loss: 0.1229 - val_acc: 0.9518\n",
            "\n",
            "Epoch 00003: val_acc improved from 0.95064 to 0.95182, saving model to gdrive/My Drive/data/ml/models/tox-ada-relu-best.hdf5\n",
            "Epoch 4/4\n",
            "1353655/1353655 [==============================] - 494s 365us/step - loss: 0.1134 - acc: 0.9546 - val_loss: 0.1228 - val_acc: 0.9522\n",
            "\n",
            "Epoch 00004: val_acc improved from 0.95182 to 0.95218, saving model to gdrive/My Drive/data/ml/models/tox-ada-relu-best.hdf5\n"
          ],
          "name": "stdout"
        },
        {
          "output_type": "execute_result",
          "data": {
            "text/plain": [
              "<keras.callbacks.History at 0x7f78f22346a0>"
            ]
          },
          "metadata": {
            "tags": []
          },
          "execution_count": 37
        }
      ]
    },
    {
      "cell_type": "code",
      "metadata": {
        "id": "tCY1j48GYT_L",
        "colab_type": "code",
        "colab": {}
      },
      "source": [
        "model_json = model.to_json()\n",
        "with open(datapath+\"ml/models/tox-ada-relu-model.json\", \"w\") as json_file:\n",
        "    json_file.write(model_json)"
      ],
      "execution_count": 0,
      "outputs": []
    },
    {
      "cell_type": "code",
      "metadata": {
        "id": "ZnluTiyr8KNc",
        "colab_type": "code",
        "colab": {}
      },
      "source": [
        "newtest= pd.read_csv(datapath+'ml/test.csv')\n",
        "xt = newtest['comment_text'].apply(preprocess)\n",
        "sequences = tokenizer.texts_to_sequences(xt)\n",
        "ts_data = pad_sequences(sequences, maxlen=MAX_LEN)\n",
        "\n"
      ],
      "execution_count": 0,
      "outputs": []
    },
    {
      "cell_type": "code",
      "metadata": {
        "id": "_jBk4_jpTRaX",
        "colab_type": "code",
        "colab": {}
      },
      "source": [
        "yts= model.predict(ts_data)"
      ],
      "execution_count": 0,
      "outputs": []
    },
    {
      "cell_type": "code",
      "metadata": {
        "id": "keN8HPZZTlXC",
        "colab_type": "code",
        "colab": {}
      },
      "source": [
        "netdata = pd.DataFrame([newtest['id']]).T\n"
      ],
      "execution_count": 0,
      "outputs": []
    },
    {
      "cell_type": "code",
      "metadata": {
        "id": "KclsBpUEUwyE",
        "colab_type": "code",
        "colab": {}
      },
      "source": [
        "netdata['prediction'] = yts"
      ],
      "execution_count": 0,
      "outputs": []
    },
    {
      "cell_type": "code",
      "metadata": {
        "id": "2vjj5DtKU53g",
        "colab_type": "code",
        "colab": {
          "base_uri": "https://localhost:8080/",
          "height": 195
        },
        "outputId": "11226e30-5ee7-4253-d117-38c4579088e2"
      },
      "source": [
        "newtest['prediction'] = yts\n",
        "newtest.head()"
      ],
      "execution_count": 49,
      "outputs": [
        {
          "output_type": "execute_result",
          "data": {
            "text/html": [
              "<div>\n",
              "<style scoped>\n",
              "    .dataframe tbody tr th:only-of-type {\n",
              "        vertical-align: middle;\n",
              "    }\n",
              "\n",
              "    .dataframe tbody tr th {\n",
              "        vertical-align: top;\n",
              "    }\n",
              "\n",
              "    .dataframe thead th {\n",
              "        text-align: right;\n",
              "    }\n",
              "</style>\n",
              "<table border=\"1\" class=\"dataframe\">\n",
              "  <thead>\n",
              "    <tr style=\"text-align: right;\">\n",
              "      <th></th>\n",
              "      <th>id</th>\n",
              "      <th>comment_text</th>\n",
              "      <th>prediction</th>\n",
              "    </tr>\n",
              "  </thead>\n",
              "  <tbody>\n",
              "    <tr>\n",
              "      <th>0</th>\n",
              "      <td>7000000</td>\n",
              "      <td>Jeff Sessions is another one of Trump's Orwell...</td>\n",
              "      <td>0.003280</td>\n",
              "    </tr>\n",
              "    <tr>\n",
              "      <th>1</th>\n",
              "      <td>7000001</td>\n",
              "      <td>I actually inspected the infrastructure on Gra...</td>\n",
              "      <td>0.000100</td>\n",
              "    </tr>\n",
              "    <tr>\n",
              "      <th>2</th>\n",
              "      <td>7000002</td>\n",
              "      <td>No it won't . That's just wishful thinking on ...</td>\n",
              "      <td>0.003977</td>\n",
              "    </tr>\n",
              "    <tr>\n",
              "      <th>3</th>\n",
              "      <td>7000003</td>\n",
              "      <td>Instead of wringing our hands and nibbling the...</td>\n",
              "      <td>0.001472</td>\n",
              "    </tr>\n",
              "    <tr>\n",
              "      <th>4</th>\n",
              "      <td>7000004</td>\n",
              "      <td>how many of you commenters have garbage piled ...</td>\n",
              "      <td>0.987436</td>\n",
              "    </tr>\n",
              "  </tbody>\n",
              "</table>\n",
              "</div>"
            ],
            "text/plain": [
              "        id                                       comment_text  prediction\n",
              "0  7000000  Jeff Sessions is another one of Trump's Orwell...    0.003280\n",
              "1  7000001  I actually inspected the infrastructure on Gra...    0.000100\n",
              "2  7000002  No it won't . That's just wishful thinking on ...    0.003977\n",
              "3  7000003  Instead of wringing our hands and nibbling the...    0.001472\n",
              "4  7000004  how many of you commenters have garbage piled ...    0.987436"
            ]
          },
          "metadata": {
            "tags": []
          },
          "execution_count": 49
        }
      ]
    },
    {
      "cell_type": "code",
      "metadata": {
        "id": "aoiNY_q6ToOM",
        "colab_type": "code",
        "colab": {}
      },
      "source": [
        "newtest.to_csv('newdata.csv', index=False)"
      ],
      "execution_count": 0,
      "outputs": []
    }
  ]
}