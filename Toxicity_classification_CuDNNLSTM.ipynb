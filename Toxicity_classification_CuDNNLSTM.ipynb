{
  "nbformat": 4,
  "nbformat_minor": 0,
  "metadata": {
    "colab": {
      "name": "Toxicity_classification_CuDNNLSTM.ipynb",
      "version": "0.3.2",
      "provenance": [],
      "collapsed_sections": []
    },
    "kernelspec": {
      "name": "python3",
      "display_name": "Python 3"
    },
    "accelerator": "GPU"
  },
  "cells": [
    {
      "cell_type": "markdown",
      "metadata": {
        "id": "6FBWCbj864vP",
        "colab_type": "text"
      },
      "source": [
        "Import statements"
      ]
    },
    {
      "cell_type": "code",
      "metadata": {
        "id": "VngaIqK5HAoj",
        "colab_type": "code",
        "colab": {}
      },
      "source": [
        "import tensorflow as tf\n",
        "from sklearn.metrics import roc_curve\n",
        "from matplotlib import pyplot as plt\n",
        "\n",
        "from keras.preprocessing.text import Tokenizer\n",
        "from keras.preprocessing.sequence import pad_sequences\n",
        "from keras.models import Sequential\n",
        "from keras.layers import Dense, Flatten, LSTM, Conv1D, MaxPooling1D, Dropout, Activation, CuDNNLSTM, Bidirectional\n",
        "from keras.layers.embeddings import Embedding\n",
        "from keras.callbacks import ModelCheckpoint\n",
        "from keras import optimizers\n",
        "from keras import initializers as init\n",
        "\n",
        "# from tensorflow.keras.backend import set_session\n",
        "import keras.backend as K\n",
        "import nltk\n",
        "import string\n",
        "import numpy as np\n",
        "import pandas as pd\n",
        "import re\n",
        "from tqdm import tqdm\n"
      ],
      "execution_count": 0,
      "outputs": []
    },
    {
      "cell_type": "markdown",
      "metadata": {
        "id": "0nFYflG76-Us",
        "colab_type": "text"
      },
      "source": [
        "methods to convert the target values into 2 classes, and preprocess the text inputs"
      ]
    },
    {
      "cell_type": "code",
      "metadata": {
        "id": "i-C5MrZ1XH84",
        "colab_type": "code",
        "colab": {}
      },
      "source": [
        "def binary(y):\n",
        "  if y>=0.5:\n",
        "      return 1\n",
        "  else:\n",
        "      return 0\n",
        "def preprocess(text):\n",
        "  text = re.sub(r'\\W+',' ',text.lower())\n",
        "  return text\n",
        "  "
      ],
      "execution_count": 0,
      "outputs": []
    },
    {
      "cell_type": "markdown",
      "metadata": {
        "id": "_RbWyqU37NTD",
        "colab_type": "text"
      },
      "source": [
        "Drive mount while using Colab. not necessary otherwise"
      ]
    },
    {
      "cell_type": "code",
      "metadata": {
        "id": "ks617QanKUlH",
        "colab_type": "code",
        "outputId": "df72b514-0d9e-4734-9c90-d59e620f5a29",
        "colab": {
          "base_uri": "https://localhost:8080/",
          "height": 34
        }
      },
      "source": [
        "from google.colab import drive\n",
        "drive.mount('/content/gdrive')"
      ],
      "execution_count": 3,
      "outputs": [
        {
          "output_type": "stream",
          "text": [
            "Drive already mounted at /content/gdrive; to attempt to forcibly remount, call drive.mount(\"/content/gdrive\", force_remount=True).\n"
          ],
          "name": "stdout"
        }
      ]
    },
    {
      "cell_type": "markdown",
      "metadata": {
        "id": "N6P2iLw57M46",
        "colab_type": "text"
      },
      "source": [
        "defining the path for the data "
      ]
    },
    {
      "cell_type": "code",
      "metadata": {
        "id": "9KtSlCBpKbMK",
        "colab_type": "code",
        "colab": {}
      },
      "source": [
        "datapath = 'gdrive/My Drive/data/'"
      ],
      "execution_count": 0,
      "outputs": []
    },
    {
      "cell_type": "markdown",
      "metadata": {
        "id": "U5f1igeC7ZhI",
        "colab_type": "text"
      },
      "source": [
        "Reading the data into a data frame"
      ]
    },
    {
      "cell_type": "code",
      "metadata": {
        "id": "90Useo7XO4W1",
        "colab_type": "code",
        "colab": {}
      },
      "source": [
        "df = pd.read_csv(datapath+'ml/train.csv')\n",
        "\n"
      ],
      "execution_count": 0,
      "outputs": []
    },
    {
      "cell_type": "code",
      "metadata": {
        "id": "2xXbiLVnm0VI",
        "colab_type": "code",
        "outputId": "acfa2a2d-91ff-4bf7-fccf-95cd50f71b94",
        "colab": {
          "base_uri": "https://localhost:8080/",
          "height": 34
        }
      },
      "source": [
        "df.shape"
      ],
      "execution_count": 6,
      "outputs": [
        {
          "output_type": "execute_result",
          "data": {
            "text/plain": [
              "(1804874, 45)"
            ]
          },
          "metadata": {
            "tags": []
          },
          "execution_count": 6
        }
      ]
    },
    {
      "cell_type": "markdown",
      "metadata": {
        "id": "4Wk0sFKP7c8E",
        "colab_type": "text"
      },
      "source": [
        "Appplying preprocessing on text and targets"
      ]
    },
    {
      "cell_type": "code",
      "metadata": {
        "id": "bgDgq4776YnP",
        "colab_type": "code",
        "colab": {}
      },
      "source": [
        "x = df['comment_text'].apply(preprocess)\n",
        "y = df['target'].apply(binary)"
      ],
      "execution_count": 0,
      "outputs": []
    },
    {
      "cell_type": "code",
      "metadata": {
        "id": "mJuhe87EXHXn",
        "colab_type": "code",
        "outputId": "0f2d1990-aac9-4c4d-fb68-cfcd715629b4",
        "colab": {
          "base_uri": "https://localhost:8080/",
          "height": 235
        }
      },
      "source": [
        "print(x.head())\n",
        "print(y.head())\n",
        "print(len(x),len(y))"
      ],
      "execution_count": 8,
      "outputs": [
        {
          "output_type": "stream",
          "text": [
            "0    this is so cool it s like would you want your ...\n",
            "1    thank you this would make my life a lot less a...\n",
            "2    this is such an urgent design problem kudos to...\n",
            "3    is this something i ll be able to install on m...\n",
            "4                 haha you guys are a bunch of losers \n",
            "Name: comment_text, dtype: object\n",
            "0    0\n",
            "1    0\n",
            "2    0\n",
            "3    0\n",
            "4    1\n",
            "Name: target, dtype: int64\n",
            "1804874 1804874\n"
          ],
          "name": "stdout"
        }
      ]
    },
    {
      "cell_type": "markdown",
      "metadata": {
        "id": "MsgicnV07iIf",
        "colab_type": "text"
      },
      "source": [
        "Inititalizing and fitting Keras tokenizer"
      ]
    },
    {
      "cell_type": "code",
      "metadata": {
        "id": "6LFo1Iwafnvo",
        "colab_type": "code",
        "colab": {}
      },
      "source": [
        "tokenizer = Tokenizer()\n",
        "tokenizer.fit_on_texts(x)"
      ],
      "execution_count": 0,
      "outputs": []
    },
    {
      "cell_type": "code",
      "metadata": {
        "id": "flu9dPuMfuuJ",
        "colab_type": "code",
        "colab": {}
      },
      "source": [
        "vocabulary_size = len(tokenizer.word_index)+1\n"
      ],
      "execution_count": 0,
      "outputs": []
    },
    {
      "cell_type": "code",
      "metadata": {
        "id": "Dh-cLMCvihEX",
        "colab_type": "code",
        "outputId": "f782ca52-d195-412b-e75e-634eabe1ca37",
        "colab": {
          "base_uri": "https://localhost:8080/",
          "height": 34
        }
      },
      "source": [
        "print(vocabulary_size)"
      ],
      "execution_count": 11,
      "outputs": [
        {
          "output_type": "stream",
          "text": [
            "309012\n"
          ],
          "name": "stdout"
        }
      ]
    },
    {
      "cell_type": "markdown",
      "metadata": {
        "id": "v8m2NOBo7ngS",
        "colab_type": "text"
      },
      "source": [
        "Padding the text inputs to a maximum length, and coverting them into sequences"
      ]
    },
    {
      "cell_type": "code",
      "metadata": {
        "id": "jrQ-RHoOG7Jf",
        "colab_type": "code",
        "outputId": "e40139ab-10d1-4f93-d71b-a396f42ea441",
        "colab": {
          "base_uri": "https://localhost:8080/",
          "height": 34
        }
      },
      "source": [
        "MAX_LEN=150\n",
        "sequences = tokenizer.texts_to_sequences(x)\n",
        "tr_data = pad_sequences(sequences, maxlen=MAX_LEN)\n",
        "\n",
        "print(len(tr_data))\n"
      ],
      "execution_count": 12,
      "outputs": [
        {
          "output_type": "stream",
          "text": [
            "1804874\n"
          ],
          "name": "stdout"
        }
      ]
    },
    {
      "cell_type": "code",
      "metadata": {
        "id": "-kTnRb5iU4Sw",
        "colab_type": "code",
        "colab": {}
      },
      "source": [
        ""
      ],
      "execution_count": 0,
      "outputs": []
    },
    {
      "cell_type": "markdown",
      "metadata": {
        "id": "PtnWmaf77zRf",
        "colab_type": "text"
      },
      "source": [
        "Loading the pretraine GloVe embeddings"
      ]
    },
    {
      "cell_type": "code",
      "metadata": {
        "id": "CGKoxGURzgxb",
        "colab_type": "code",
        "outputId": "07dbb1e4-f44e-42b3-8a96-690e62f89143",
        "colab": {
          "base_uri": "https://localhost:8080/",
          "height": 34
        }
      },
      "source": [
        "f = open(datapath+'glove.6B.300d.txt')\n",
        "embedding_values = {}\n",
        "for line in tqdm(f):\n",
        "  value = line.split(' ')\n",
        "  word = value[0]\n",
        "  coef = np.array(value[1:],dtype = 'float32')\n",
        "  embedding_values[word]=coef"
      ],
      "execution_count": 13,
      "outputs": [
        {
          "output_type": "stream",
          "text": [
            "400000it [00:28, 14198.81it/s]\n"
          ],
          "name": "stderr"
        }
      ]
    },
    {
      "cell_type": "markdown",
      "metadata": {
        "id": "e0KCazp472tV",
        "colab_type": "text"
      },
      "source": [
        "Creating an embedding matrix for the Embedding Layer of the model."
      ]
    },
    {
      "cell_type": "code",
      "metadata": {
        "id": "zu234t4CzsfJ",
        "colab_type": "code",
        "outputId": "09716a61-19ff-4bb3-b29f-8ae206923f33",
        "colab": {
          "base_uri": "https://localhost:8080/",
          "height": 34
        }
      },
      "source": [
        "embedding_matrix = np.zeros((vocabulary_size,300))\n",
        "for word,i in tqdm(tokenizer.word_index.items()):\n",
        "  values = embedding_values.get(word)\n",
        "  if values is not None:\n",
        "    embedding_matrix[i] = values"
      ],
      "execution_count": 14,
      "outputs": [
        {
          "output_type": "stream",
          "text": [
            "100%|██████████| 309011/309011 [00:00<00:00, 571972.93it/s]\n"
          ],
          "name": "stderr"
        }
      ]
    },
    {
      "cell_type": "code",
      "metadata": {
        "id": "YlBal2orkguX",
        "colab_type": "code",
        "colab": {}
      },
      "source": [
        "# config = tf.ConfigProto()\n",
        "# config.gpu_options.per_process_gpu_memory_fraction = 0.3\n",
        "# set_session(tf.Session(config=config))"
      ],
      "execution_count": 0,
      "outputs": []
    },
    {
      "cell_type": "markdown",
      "metadata": {
        "id": "4TJ_KbGR7-yj",
        "colab_type": "text"
      },
      "source": [
        "Splitting data into train and test datasets"
      ]
    },
    {
      "cell_type": "code",
      "metadata": {
        "id": "MNnfi9VZqb95",
        "colab_type": "code",
        "colab": {}
      },
      "source": [
        "from sklearn.model_selection import train_test_split\n",
        "x_train,x_test,y_train,y_test = train_test_split(tr_data,y,test_size = 0.25,random_state = 42)"
      ],
      "execution_count": 0,
      "outputs": []
    },
    {
      "cell_type": "code",
      "metadata": {
        "id": "CT189KK3oNvQ",
        "colab_type": "code",
        "colab": {}
      },
      "source": [
        "# del x,y,tr_data"
      ],
      "execution_count": 0,
      "outputs": []
    },
    {
      "cell_type": "markdown",
      "metadata": {
        "id": "Tg_IavZC8Fhv",
        "colab_type": "text"
      },
      "source": [
        "Method for setting keras session and setting seeds for all random methods that could be used in the model"
      ]
    },
    {
      "cell_type": "code",
      "metadata": {
        "id": "Rrc-DD8Kx0cA",
        "colab_type": "code",
        "colab": {}
      },
      "source": [
        "import numpy as np\n",
        "import tensorflow as tf\n",
        "import random as rn\n",
        "import os\n",
        "from numpy.random import seed\n",
        "from tensorflow import set_random_seed\n",
        "\n",
        "def session_refresh():\n",
        "  seed(2)\n",
        "  set_random_seed(2)\n",
        "  rn.seed(2)\n",
        "  os.environ['PYTHONHASHSEED'] = '0'\n",
        "  session_conf = tf.ConfigProto(intra_op_parallelism_threads=1, inter_op_parallelism_threads=1)\n",
        "  sess = tf.Session(graph=tf.get_default_graph(), config=session_conf)\n",
        "  K.set_session(sess)\n",
        "  print('refreshed session')"
      ],
      "execution_count": 0,
      "outputs": []
    },
    {
      "cell_type": "markdown",
      "metadata": {
        "id": "7Juzj-T88fW7",
        "colab_type": "text"
      },
      "source": [
        "Creating the initializers for Embedding Layer weights, all Hidden Kernels' weights, and Recurrent kernels' weights "
      ]
    },
    {
      "cell_type": "code",
      "metadata": {
        "id": "qSO_2MS8a6aJ",
        "colab_type": "code",
        "colab": {}
      },
      "source": [
        "embeddingInit = init.RandomUniform(seed=2)\n",
        "kernelInit = init.glorot_uniform(seed=2)\n",
        "recurrentInit = init.Orthogonal(seed=2)"
      ],
      "execution_count": 0,
      "outputs": []
    },
    {
      "cell_type": "markdown",
      "metadata": {
        "id": "vFPNRyd0F6-4",
        "colab_type": "text"
      },
      "source": [
        "Creating the model, setting all parameters, adding checkpoints to save the model at it's best validation accuracy. And, finally training the model."
      ]
    },
    {
      "cell_type": "code",
      "metadata": {
        "id": "mxKCaZad4T7p",
        "colab_type": "code",
        "outputId": "d43d7a87-3a3a-4b34-9174-4e582fc95d2b",
        "colab": {
          "base_uri": "https://localhost:8080/",
          "height": 843
        }
      },
      "source": [
        "session_refresh()\n",
        "# K.clear_session()\n",
        "model = Sequential()\n",
        "model.add(Embedding(vocabulary_size,300, input_length = MAX_LEN,weights = [embedding_matrix],trainable = False, embeddings_initializer=embeddingInit))\n",
        "# model.add(Embedding(vocabulary_size, 145, input_length=145))\n",
        "# model.add(Bidirectional(LSTM(145, dropout=0.2, recurrent_dropout=0.2,return_sequences=True),merge_mode='ave'))\n",
        "# model.add(Bidirectional(LSTM(145, dropout=0.2, recurrent_dropout=0.2),merge_mode='ave'))\n",
        "model.add(Bidirectional(CuDNNLSTM(100,return_sequences=True,kernel_initializer=kernelInit,recurrent_initializer=recurrentInit)))#,merge_mode='ave'\n",
        "model.add(Dropout(0.2,seed=2))\n",
        "model.add(Bidirectional(CuDNNLSTM(100,kernel_initializer=kernelInit,recurrent_initializer=recurrentInit)))\n",
        "model.add(Dropout(0.2,seed=2))\n",
        "model.add(Dense(64,activation = 'relu',kernel_initializer=kernelInit))\n",
        "model.add(Dense(1, activation='sigmoid',kernel_initializer=kernelInit))\n",
        "adg = optimizers.Adagrad(lr=0.01)\n",
        "model.compile(loss='binary_crossentropy', optimizer='adam', metrics=['accuracy'])#'adam'\n",
        "\n",
        "filepath=datapath+'ml/models/'+\"tox-ada-relu-best.hdf5\"\n",
        "checkpoint = ModelCheckpoint(filepath, monitor='val_acc', verbose=1, save_best_only=True, mode='max')\n",
        "callbacks_list = [checkpoint]\n",
        "model.summary()\n",
        "# model.fit(tr_data, y, validation_split=0.25, epochs=3,batch_size=128)\n",
        "history=model.fit(x_train, y_train, validation_data=(x_test,y_test), epochs=4,callbacks=callbacks_list,batch_size=500)"
      ],
      "execution_count": 20,
      "outputs": [
        {
          "output_type": "stream",
          "text": [
            "refreshed session\n",
            "WARNING:tensorflow:From /usr/local/lib/python3.6/dist-packages/tensorflow/python/framework/op_def_library.py:263: colocate_with (from tensorflow.python.framework.ops) is deprecated and will be removed in a future version.\n",
            "Instructions for updating:\n",
            "Colocations handled automatically by placer.\n",
            "WARNING:tensorflow:From /usr/local/lib/python3.6/dist-packages/keras/backend/tensorflow_backend.py:3445: calling dropout (from tensorflow.python.ops.nn_ops) with keep_prob is deprecated and will be removed in a future version.\n",
            "Instructions for updating:\n",
            "Please use `rate` instead of `keep_prob`. Rate should be set to `rate = 1 - keep_prob`.\n",
            "_________________________________________________________________\n",
            "Layer (type)                 Output Shape              Param #   \n",
            "=================================================================\n",
            "embedding_1 (Embedding)      (None, 150, 300)          92703600  \n",
            "_________________________________________________________________\n",
            "bidirectional_1 (Bidirection (None, 150, 200)          321600    \n",
            "_________________________________________________________________\n",
            "dropout_1 (Dropout)          (None, 150, 200)          0         \n",
            "_________________________________________________________________\n",
            "bidirectional_2 (Bidirection (None, 200)               241600    \n",
            "_________________________________________________________________\n",
            "dropout_2 (Dropout)          (None, 200)               0         \n",
            "_________________________________________________________________\n",
            "dense_1 (Dense)              (None, 64)                12864     \n",
            "_________________________________________________________________\n",
            "dense_2 (Dense)              (None, 1)                 65        \n",
            "=================================================================\n",
            "Total params: 93,279,729\n",
            "Trainable params: 576,129\n",
            "Non-trainable params: 92,703,600\n",
            "_________________________________________________________________\n",
            "WARNING:tensorflow:From /usr/local/lib/python3.6/dist-packages/tensorflow/python/ops/math_ops.py:3066: to_int32 (from tensorflow.python.ops.math_ops) is deprecated and will be removed in a future version.\n",
            "Instructions for updating:\n",
            "Use tf.cast instead.\n",
            "Train on 1353655 samples, validate on 451219 samples\n",
            "Epoch 1/4\n",
            "1353655/1353655 [==============================] - 490s 362us/step - loss: 0.1480 - acc: 0.9450 - val_loss: 0.1303 - val_acc: 0.9497\n",
            "\n",
            "Epoch 00001: val_acc improved from -inf to 0.94974, saving model to gdrive/My Drive/data/ml/models/tox-ada-relu-best.hdf5\n",
            "Epoch 2/4\n",
            "1353655/1353655 [==============================] - 494s 365us/step - loss: 0.1250 - acc: 0.9513 - val_loss: 0.1261 - val_acc: 0.9503\n",
            "\n",
            "Epoch 00002: val_acc improved from 0.94974 to 0.95033, saving model to gdrive/My Drive/data/ml/models/tox-ada-relu-best.hdf5\n",
            "Epoch 3/4\n",
            "1353655/1353655 [==============================] - 494s 365us/step - loss: 0.1187 - acc: 0.9532 - val_loss: 0.1229 - val_acc: 0.9517\n",
            "\n",
            "Epoch 00003: val_acc improved from 0.95033 to 0.95170, saving model to gdrive/My Drive/data/ml/models/tox-ada-relu-best.hdf5\n",
            "Epoch 4/4\n",
            "1353655/1353655 [==============================] - 494s 365us/step - loss: 0.1136 - acc: 0.9546 - val_loss: 0.1232 - val_acc: 0.9522\n",
            "\n",
            "Epoch 00004: val_acc improved from 0.95170 to 0.95218, saving model to gdrive/My Drive/data/ml/models/tox-ada-relu-best.hdf5\n"
          ],
          "name": "stdout"
        }
      ]
    },
    {
      "cell_type": "markdown",
      "metadata": {
        "id": "f7O08vAQ9CZU",
        "colab_type": "text"
      },
      "source": [
        "Saving the model structure as json."
      ]
    },
    {
      "cell_type": "code",
      "metadata": {
        "id": "tCY1j48GYT_L",
        "colab_type": "code",
        "colab": {}
      },
      "source": [
        "model_json = model.to_json()\n",
        "with open(datapath+\"ml/models/tox-ada-relu-model.json\", \"w\") as json_file:\n",
        "    json_file.write(model_json)"
      ],
      "execution_count": 0,
      "outputs": []
    },
    {
      "cell_type": "markdown",
      "metadata": {
        "id": "Ixl6_bEl9Hqa",
        "colab_type": "text"
      },
      "source": [
        "Plotting the model accuracy and model loss on train and validation datasets."
      ]
    },
    {
      "cell_type": "code",
      "metadata": {
        "id": "mov_0qzmr8_E",
        "colab_type": "code",
        "colab": {
          "base_uri": "https://localhost:8080/",
          "height": 574
        },
        "outputId": "a727bae2-ec62-47b6-adb8-d6eb49dfe6e8"
      },
      "source": [
        "# print(history.history.keys())\n",
        "plt.plot(history.history['acc'])\n",
        "plt.plot(history.history['val_acc'])\n",
        "plt.title('model accuracy')\n",
        "plt.ylabel('accuracy')\n",
        "plt.xlabel('epoch')\n",
        "plt.legend(['train', 'test'], loc='upper left')\n",
        "plt.show()\n",
        "\n",
        "# summarize history for loss\n",
        "plt.plot(history.history['loss'])\n",
        "plt.plot(history.history['val_loss'])\n",
        "plt.title('model loss')\n",
        "plt.ylabel('loss')\n",
        "plt.xlabel('epoch')\n",
        "plt.legend(['train', 'test'], loc='upper left')\n",
        "plt.show()"
      ],
      "execution_count": 24,
      "outputs": [
        {
          "output_type": "display_data",
          "data": {
            "image/png": "[encoded data removed]",
            "text/plain": [
              "<Figure size 432x288 with 1 Axes>"
            ]
          },
          "metadata": {
            "tags": []
          }
        },
        {
          "output_type": "display_data",
          "data": {
            "image/png": "[encoded data removed]",
            "text/plain": [
              "<Figure size 432x288 with 1 Axes>"
            ]
          },
          "metadata": {
            "tags": []
          }
        }
      ]
    },
    {
      "cell_type": "markdown",
      "metadata": {
        "id": "Qlx3LuY69bye",
        "colab_type": "text"
      },
      "source": [
        "Plotting the ROC curve on the Validation dataset"
      ]
    },
    {
      "cell_type": "code",
      "metadata": {
        "id": "Z9AoCqVI5Y0d",
        "colab_type": "code",
        "colab": {
          "base_uri": "https://localhost:8080/",
          "height": 269
        },
        "outputId": "038a7a90-2310-47f7-cbd6-6d6244735115"
      },
      "source": [
        "probs = model.predict(x_test)\n",
        "fpr, tpr, thresholds = roc_curve(y_test, probs)\n",
        "plt.plot([0, 1], [0, 1], linestyle='--')\n",
        "plt.plot(fpr, tpr)\n",
        "plt.show()"
      ],
      "execution_count": 27,
      "outputs": [
        {
          "output_type": "display_data",
          "data": {
            "image/png": "[encoded data removed]",
            "text/plain": [
              "<Figure size 432x288 with 1 Axes>"
            ]
          },
          "metadata": {
            "tags": []
          }
        }
      ]
    },
    {
      "cell_type": "code",
      "metadata": {
        "id": "v2SBQmCi6wOZ",
        "colab_type": "code",
        "colab": {
          "base_uri": "https://localhost:8080/",
          "height": 50
        },
        "outputId": "75cc4e14-50ee-4f23-9864-91d3cd9deab0"
      },
      "source": [
        "print(thresholds)"
      ],
      "execution_count": 34,
      "outputs": [
        {
          "output_type": "stream",
          "text": [
            "[1.9998909e+00 9.9989092e-01 9.9987793e-01 ... 5.7518482e-06 5.6922436e-06\n",
            " 2.0265579e-06]\n"
          ],
          "name": "stdout"
        }
      ]
    },
    {
      "cell_type": "markdown",
      "metadata": {
        "id": "J_hpNteg9gga",
        "colab_type": "text"
      },
      "source": [
        "Preparing the unseen prediction dataset."
      ]
    },
    {
      "cell_type": "code",
      "metadata": {
        "id": "ZnluTiyr8KNc",
        "colab_type": "code",
        "colab": {}
      },
      "source": [
        "newtest= pd.read_csv(datapath+'ml/test.csv')\n",
        "xt = newtest['comment_text'].apply(preprocess)\n",
        "sequences = tokenizer.texts_to_sequences(xt)\n",
        "ts_data = pad_sequences(sequences, maxlen=MAX_LEN)"
      ],
      "execution_count": 0,
      "outputs": []
    },
    {
      "cell_type": "markdown",
      "metadata": {
        "id": "2GygmVaU9mdn",
        "colab_type": "text"
      },
      "source": [
        "Predicting the toxicity for the unseen dataset."
      ]
    },
    {
      "cell_type": "code",
      "metadata": {
        "id": "_jBk4_jpTRaX",
        "colab_type": "code",
        "colab": {}
      },
      "source": [
        "yts= model.predict(ts_data)"
      ],
      "execution_count": 0,
      "outputs": []
    },
    {
      "cell_type": "code",
      "metadata": {
        "id": "keN8HPZZTlXC",
        "colab_type": "code",
        "colab": {}
      },
      "source": [
        "netdata = pd.DataFrame([newtest['id']]).T\n"
      ],
      "execution_count": 0,
      "outputs": []
    },
    {
      "cell_type": "code",
      "metadata": {
        "id": "KclsBpUEUwyE",
        "colab_type": "code",
        "colab": {}
      },
      "source": [
        "netdata['prediction'] = yts"
      ],
      "execution_count": 0,
      "outputs": []
    },
    {
      "cell_type": "markdown",
      "metadata": {
        "id": "sFTqzrbf9wbw",
        "colab_type": "text"
      },
      "source": [
        "Saving the unseen test predictions into a fine"
      ]
    },
    {
      "cell_type": "code",
      "metadata": {
        "id": "2vjj5DtKU53g",
        "colab_type": "code",
        "outputId": "b6b70ca9-1970-479b-9ffb-70c5f21b79d5",
        "colab": {
          "base_uri": "https://localhost:8080/",
          "height": 195
        }
      },
      "source": [
        "newtest['prediction'] = yts\n",
        "newtest.head()"
      ],
      "execution_count": 32,
      "outputs": [
        {
          "output_type": "execute_result",
          "data": {
            "text/html": [
              "<div>\n",
              "<style scoped>\n",
              "    .dataframe tbody tr th:only-of-type {\n",
              "        vertical-align: middle;\n",
              "    }\n",
              "\n",
              "    .dataframe tbody tr th {\n",
              "        vertical-align: top;\n",
              "    }\n",
              "\n",
              "    .dataframe thead th {\n",
              "        text-align: right;\n",
              "    }\n",
              "</style>\n",
              "<table border=\"1\" class=\"dataframe\">\n",
              "  <thead>\n",
              "    <tr style=\"text-align: right;\">\n",
              "      <th></th>\n",
              "      <th>id</th>\n",
              "      <th>comment_text</th>\n",
              "      <th>prediction</th>\n",
              "    </tr>\n",
              "  </thead>\n",
              "  <tbody>\n",
              "    <tr>\n",
              "      <th>0</th>\n",
              "      <td>7000000</td>\n",
              "      <td>Jeff Sessions is another one of Trump's Orwell...</td>\n",
              "      <td>0.000910</td>\n",
              "    </tr>\n",
              "    <tr>\n",
              "      <th>1</th>\n",
              "      <td>7000001</td>\n",
              "      <td>I actually inspected the infrastructure on Gra...</td>\n",
              "      <td>0.000028</td>\n",
              "    </tr>\n",
              "    <tr>\n",
              "      <th>2</th>\n",
              "      <td>7000002</td>\n",
              "      <td>No it won't . That's just wishful thinking on ...</td>\n",
              "      <td>0.003245</td>\n",
              "    </tr>\n",
              "    <tr>\n",
              "      <th>3</th>\n",
              "      <td>7000003</td>\n",
              "      <td>Instead of wringing our hands and nibbling the...</td>\n",
              "      <td>0.002764</td>\n",
              "    </tr>\n",
              "    <tr>\n",
              "      <th>4</th>\n",
              "      <td>7000004</td>\n",
              "      <td>how many of you commenters have garbage piled ...</td>\n",
              "      <td>0.992859</td>\n",
              "    </tr>\n",
              "  </tbody>\n",
              "</table>\n",
              "</div>"
            ],
            "text/plain": [
              "        id                                       comment_text  prediction\n",
              "0  7000000  Jeff Sessions is another one of Trump's Orwell...    0.000910\n",
              "1  7000001  I actually inspected the infrastructure on Gra...    0.000028\n",
              "2  7000002  No it won't . That's just wishful thinking on ...    0.003245\n",
              "3  7000003  Instead of wringing our hands and nibbling the...    0.002764\n",
              "4  7000004  how many of you commenters have garbage piled ...    0.992859"
            ]
          },
          "metadata": {
            "tags": []
          },
          "execution_count": 32
        }
      ]
    },
    {
      "cell_type": "code",
      "metadata": {
        "id": "aoiNY_q6ToOM",
        "colab_type": "code",
        "colab": {}
      },
      "source": [
        "newtest.to_csv('newdata.csv', index=False)"
      ],
      "execution_count": 0,
      "outputs": []
    },
    {
      "cell_type": "code",
      "metadata": {
        "id": "OxAo8SWbr23m",
        "colab_type": "code",
        "colab": {}
      },
      "source": [
        ""
      ],
      "execution_count": 0,
      "outputs": []
    }
  ]
}