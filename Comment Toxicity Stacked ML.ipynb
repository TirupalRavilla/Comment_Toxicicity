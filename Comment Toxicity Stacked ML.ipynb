{
  "nbformat": 4,
  "nbformat_minor": 0,
  "metadata": {
    "kernelspec": {
      "display_name": "Python 3",
      "language": "python",
      "name": "python3"
    },
    "language_info": {
      "codemirror_mode": {
        "name": "ipython",
        "version": 3
      },
      "file_extension": ".py",
      "mimetype": "text/x-python",
      "name": "python",
      "nbconvert_exporter": "python",
      "pygments_lexer": "ipython3",
      "version": "3.7.3"
    },
    "colab": {
      "name": "Big Data-Course Project.ipynb",
      "provenance": []
    }
  },
  "cells": [
    {
      "cell_type": "code",
      "metadata": {
        "id": "QEhrRxo6B0_q",
        "colab_type": "code",
        "colab": {},
        "outputId": "b419bd89-95a5-4831-dfc8-00d65a8f69fe"
      },
      "source": [
        "!python3 -m pip install findspark"
      ],
      "execution_count": 0,
      "outputs": [
        {
          "output_type": "stream",
          "text": [
            "Requirement already satisfied: findspark in c:\\users\\raoti\\appdata\\local\\programs\\python\\python37\\lib\\site-packages (1.3.0)\n"
          ],
          "name": "stdout"
        },
        {
          "output_type": "stream",
          "text": [
            "You are using pip version 19.0.3, however version 19.1.1 is available.\n",
            "You should consider upgrading via the 'python -m pip install --upgrade pip' command.\n"
          ],
          "name": "stderr"
        }
      ]
    },
    {
      "cell_type": "code",
      "metadata": {
        "id": "gRjtYKGSB0_v",
        "colab_type": "code",
        "colab": {},
        "outputId": "6c5bd4c5-ef0a-4b88-ce26-3b5c8da5bb72"
      },
      "source": [
        "import os\n",
        "import matplotlib.pyplot as plt\n",
        "%matplotlib inline\n",
        "\n",
        "os.environ['SPARK_HOME'] = \"C:\\\\Users\\\\raoti\\\\Downloads\\\\spark-2.4.3-bin-hadoop2.7\\\\spark-2.4.3-bin-hadoop2.7\"\n",
        "os.environ['HADOOP_HOME'] = \"C:\\\\Users\\\\raoti\\\\Downloads\\\\spark-2.4.3-bin-hadoop2.7\\\\spark-2.4.3-bin-hadoop2.7\\\\bin\"\n",
        "print(os.getenv('SPARK_HOME'))"
      ],
      "execution_count": 0,
      "outputs": [
        {
          "output_type": "stream",
          "text": [
            "C:\\Users\\raoti\\Downloads\\spark-2.4.3-bin-hadoop2.7\\spark-2.4.3-bin-hadoop2.7\n"
          ],
          "name": "stdout"
        }
      ]
    },
    {
      "cell_type": "code",
      "metadata": {
        "id": "P7XWnRwwB0_y",
        "colab_type": "code",
        "colab": {}
      },
      "source": [
        "import findspark\n",
        "findspark.init()"
      ],
      "execution_count": 0,
      "outputs": []
    },
    {
      "cell_type": "code",
      "metadata": {
        "id": "FJIhjpOsB0_1",
        "colab_type": "code",
        "colab": {}
      },
      "source": [
        "#import findspark\n",
        "\n",
        "\n",
        "# import pyspark \n",
        "# from pyspark.sql import SparkSession\n",
        "# spark = SparkSession.builder.getOrCreate()\n",
        "\n",
        "# df = spark.sql('''select 'spark' as hello ''')\n",
        "# df.show()\n",
        "\n"
      ],
      "execution_count": 0,
      "outputs": []
    },
    {
      "cell_type": "code",
      "metadata": {
        "id": "MOidvOBFB0_4",
        "colab_type": "code",
        "colab": {}
      },
      "source": [
        "# spark.stop()"
      ],
      "execution_count": 0,
      "outputs": []
    },
    {
      "cell_type": "code",
      "metadata": {
        "id": "vHD-xRA5B0_7",
        "colab_type": "code",
        "colab": {}
      },
      "source": [
        "from pyspark import SparkContext,SparkConf,SQLContext\n",
        "from pyspark.sql.window import Window\n",
        "import pyspark.sql.functions as func\n",
        "from pyspark.sql.session import SparkSession"
      ],
      "execution_count": 0,
      "outputs": []
    },
    {
      "cell_type": "code",
      "metadata": {
        "id": "8IHr3lTiB0_-",
        "colab_type": "code",
        "colab": {}
      },
      "source": [
        "sconf = SparkConf()\n",
        "sconf.setMaster('local')\n",
        "sc = SparkContext() \n",
        "spark = SparkSession(sc)\n",
        "sqlContext = SQLContext(sc)"
      ],
      "execution_count": 0,
      "outputs": []
    },
    {
      "cell_type": "code",
      "metadata": {
        "id": "WHiNgmy_B1AA",
        "colab_type": "code",
        "colab": {},
        "outputId": "e22ac972-e0a2-42e5-ad31-90848f10c158"
      },
      "source": [
        "train_file='C:\\\\Users\\\\raoti\\\\Documents\\\\NYU\\\\Classes\\\\Big Data\\\\project\\\\train.tsv'\n",
        "\n",
        "\n",
        "df= sqlContext.read.format('com.databricks.spark.csv').options(header='true').option(\"delimiter\", \"\\t\").load(train_file)\n",
        "# df = sqlContext.read.load(\n",
        "#     location,\n",
        "#     format = 'com.databricks.spark.csv',\n",
        "#     header='false',\n",
        "#     inferSchema=True)\n",
        "print(df.columns)\n"
      ],
      "execution_count": 0,
      "outputs": [
        {
          "output_type": "stream",
          "text": [
            "['comment_text', 'target']\n"
          ],
          "name": "stdout"
        }
      ]
    },
    {
      "cell_type": "code",
      "metadata": {
        "id": "g3_vZwcfB1AC",
        "colab_type": "code",
        "colab": {},
        "outputId": "e88fc893-65b4-42cb-f52a-d705d18377b2"
      },
      "source": [
        "print((df.count(), len(df.columns)))"
      ],
      "execution_count": 0,
      "outputs": [
        {
          "output_type": "stream",
          "text": [
            "(50000, 2)\n"
          ],
          "name": "stdout"
        }
      ]
    },
    {
      "cell_type": "code",
      "metadata": {
        "id": "8FXjemRJB1AG",
        "colab_type": "code",
        "colab": {}
      },
      "source": [
        "cols=['comment_text','target']\n",
        "df=df[cols]\n",
        "# df = df.toDF(*cols)\n"
      ],
      "execution_count": 0,
      "outputs": []
    },
    {
      "cell_type": "code",
      "metadata": {
        "id": "0KOaIzSoB1AJ",
        "colab_type": "code",
        "colab": {},
        "outputId": "57e29b24-ef0f-4177-9039-9f6dda3e214e"
      },
      "source": [
        "print(df.count())\n",
        "print(df.columns)\n",
        "print(df.select('comment_text').count())"
      ],
      "execution_count": 0,
      "outputs": [
        {
          "output_type": "stream",
          "text": [
            "50000\n",
            "['comment_text', 'target']\n",
            "50000\n"
          ],
          "name": "stdout"
        }
      ]
    },
    {
      "cell_type": "code",
      "metadata": {
        "id": "C2SmwwQ8B1AL",
        "colab_type": "code",
        "colab": {},
        "outputId": "d7aae5f4-9059-4f93-a83b-5dff32f61aef"
      },
      "source": [
        "df.printSchema()"
      ],
      "execution_count": 0,
      "outputs": [
        {
          "output_type": "stream",
          "text": [
            "root\n",
            " |-- comment_text: string (nullable = true)\n",
            " |-- target: string (nullable = true)\n",
            "\n"
          ],
          "name": "stdout"
        }
      ]
    },
    {
      "cell_type": "code",
      "metadata": {
        "id": "8MHIgcrXB1AN",
        "colab_type": "code",
        "colab": {}
      },
      "source": [
        "df=df.dropna()"
      ],
      "execution_count": 0,
      "outputs": []
    },
    {
      "cell_type": "code",
      "metadata": {
        "id": "OEXfHIiLB1AQ",
        "colab_type": "code",
        "colab": {},
        "outputId": "69b00ad5-db74-4282-c2e7-e3866514db6a"
      },
      "source": [
        "df.count()"
      ],
      "execution_count": 0,
      "outputs": [
        {
          "output_type": "execute_result",
          "data": {
            "text/plain": [
              "50000"
            ]
          },
          "metadata": {
            "tags": []
          },
          "execution_count": 19
        }
      ]
    },
    {
      "cell_type": "code",
      "metadata": {
        "id": "-N3eH3dSB1AS",
        "colab_type": "code",
        "colab": {}
      },
      "source": [
        "# df.show()"
      ],
      "execution_count": 0,
      "outputs": []
    },
    {
      "cell_type": "code",
      "metadata": {
        "scrolled": true,
        "id": "sABrgpGlB1AW",
        "colab_type": "code",
        "colab": {}
      },
      "source": [
        "# df.select('target').distinct().show()"
      ],
      "execution_count": 0,
      "outputs": []
    },
    {
      "cell_type": "code",
      "metadata": {
        "id": "jSOycLjlB1Aa",
        "colab_type": "code",
        "colab": {}
      },
      "source": [
        "import pyspark.sql.functions as F\n",
        "import pyspark.sql.types as T\n",
        "from pyspark.sql.functions import udf\n",
        "\n",
        "def categorize(col):\n",
        "    print(col)\n",
        "    tr = 1 if float(col) > 0.5 else 0\n",
        "    return tr\n",
        "\n",
        "\n",
        "my_udf = udf(categorize, T.StringType())\n",
        "\n",
        "df_new = df.withColumn('targetBin', my_udf(df['target']))"
      ],
      "execution_count": 0,
      "outputs": []
    },
    {
      "cell_type": "code",
      "metadata": {
        "scrolled": true,
        "id": "MnbOe3OHB1Ae",
        "colab_type": "code",
        "colab": {}
      },
      "source": [
        "# df_new.show()"
      ],
      "execution_count": 0,
      "outputs": []
    },
    {
      "cell_type": "code",
      "metadata": {
        "id": "zT11tMFZB1Ah",
        "colab_type": "code",
        "colab": {}
      },
      "source": [
        "df=df_new.drop('target')"
      ],
      "execution_count": 0,
      "outputs": []
    },
    {
      "cell_type": "code",
      "metadata": {
        "id": "ywFytbdZB1Aj",
        "colab_type": "code",
        "colab": {}
      },
      "source": [
        "# df=df.withColumnRenamed(\"target\", \"label\")\n",
        "df=df.withColumn(\"label1\", df[\"targetBin\"].cast(\"int\"))"
      ],
      "execution_count": 0,
      "outputs": []
    },
    {
      "cell_type": "code",
      "metadata": {
        "id": "MVvqqyFVB1Al",
        "colab_type": "code",
        "colab": {},
        "outputId": "3cc55b6f-9fbf-4929-ee17-a5955355548e"
      },
      "source": [
        "df.show()"
      ],
      "execution_count": 0,
      "outputs": [
        {
          "output_type": "stream",
          "text": [
            "+--------------------+-----+\n",
            "|        comment_text|label|\n",
            "+--------------------+-----+\n",
            "|This is so cool. ...|    0|\n",
            "|Thank you!! This ...|    0|\n",
            "|This is such an u...|    0|\n",
            "|Is this something...|    0|\n",
            "|haha you guys are...|    1|\n",
            "|ur a sh*tty comment.|    1|\n",
            "|hahahahahahahahhh...|    0|\n",
            "| FFFFUUUUUUUUUUUUUUU|    0|\n",
            "|The ranchers seem...|    0|\n",
            "|It was a great sh...|    0|\n",
            "|Wow, that sounds ...|    0|\n",
            "|\"This is a great ...|    0|\n",
            "|This seems like a...|    0|\n",
            "|\"It's ridiculous ...|    1|\n",
            "|This story gets m...|    0|\n",
            "|I agree; I don't ...|    0|\n",
            "|Interesting. I'll...|    0|\n",
            "|Awesome! I love C...|    0|\n",
            "|\"I'm glad you're ...|    0|\n",
            "|\"Angry trolls, mi...|    0|\n",
            "+--------------------+-----+\n",
            "only showing top 20 rows\n",
            "\n"
          ],
          "name": "stdout"
        }
      ]
    },
    {
      "cell_type": "code",
      "metadata": {
        "id": "TxJHg48fB1Ao",
        "colab_type": "code",
        "colab": {}
      },
      "source": [
        "df=df.drop('targetBin')"
      ],
      "execution_count": 0,
      "outputs": []
    },
    {
      "cell_type": "code",
      "metadata": {
        "id": "IeZ4CTB7B1Aq",
        "colab_type": "code",
        "colab": {}
      },
      "source": [
        "df=df.withColumnRenamed(\"label1\", \"label\")"
      ],
      "execution_count": 0,
      "outputs": []
    },
    {
      "cell_type": "code",
      "metadata": {
        "id": "bIDm0pyFB1As",
        "colab_type": "code",
        "colab": {}
      },
      "source": [
        "# df.show()"
      ],
      "execution_count": 0,
      "outputs": []
    },
    {
      "cell_type": "code",
      "metadata": {
        "id": "PAaXCiw0B1Au",
        "colab_type": "code",
        "colab": {}
      },
      "source": [
        "accuracies={}"
      ],
      "execution_count": 0,
      "outputs": []
    },
    {
      "cell_type": "code",
      "metadata": {
        "id": "xIqh0cCFB1Aw",
        "colab_type": "code",
        "colab": {}
      },
      "source": [
        "from pyspark.ml.feature import RegexTokenizer, StopWordsRemover, CountVectorizer\n",
        "from pyspark.ml.feature import Word2Vec\n",
        "from pyspark.ml.classification import LogisticRegression\n",
        "\n",
        "regexTokenizer = RegexTokenizer(inputCol=\"comment_text\", outputCol=\"cleaned\", pattern=\"\\\\W+\",toLowercase=True)\n",
        "stopwordsRemover = StopWordsRemover(inputCol=\"cleaned\", outputCol=\"filtered\")\n",
        "countVectors = CountVectorizer(inputCol=\"filtered\", outputCol=\"features\", vocabSize=10000, minDF=5)\n",
        "# word2Vec = Word2Vec(vectorSize=150, minCount=0, inputCol=\"filtered\", outputCol=\"features\")"
      ],
      "execution_count": 0,
      "outputs": []
    },
    {
      "cell_type": "code",
      "metadata": {
        "id": "0cPEf9dCB1Ay",
        "colab_type": "code",
        "colab": {}
      },
      "source": [
        "from pyspark.ml import Pipeline\n",
        "\n",
        "pipeline = Pipeline(stages=[regexTokenizer, stopwordsRemover, countVectors])\n",
        "# pipeline = Pipeline(stages=[regexTokenizer, stopwordsRemover, word2Vec])\n",
        "\n",
        "# Fitting pipeline to training documents.\n",
        "pipelineFit = pipeline.fit(df)\n",
        "dataset = pipelineFit.transform(df)"
      ],
      "execution_count": 0,
      "outputs": []
    },
    {
      "cell_type": "code",
      "metadata": {
        "id": "Zj8x0p0-B1A0",
        "colab_type": "code",
        "colab": {},
        "outputId": "c109831d-706e-42ef-85d7-337787cb78c7"
      },
      "source": [
        "(trainingData, testData) = dataset.randomSplit([0.7, 0.3], seed = 100)\n",
        "print(\"Training Dataset Count: \" + str(trainingData.count()))\n",
        "print(\"Test Dataset Count: \" + str(testData.count()))"
      ],
      "execution_count": 0,
      "outputs": [
        {
          "output_type": "stream",
          "text": [
            "Training Dataset Count: 35119\n",
            "Test Dataset Count: 14881\n"
          ],
          "name": "stdout"
        }
      ]
    },
    {
      "cell_type": "code",
      "metadata": {
        "id": "oE4UjpfpB1A2",
        "colab_type": "code",
        "colab": {},
        "outputId": "8916e46f-1a07-4095-fe7e-056de9617e69"
      },
      "source": [
        "print(trainingData.columns)"
      ],
      "execution_count": 0,
      "outputs": [
        {
          "output_type": "stream",
          "text": [
            "['comment_text', 'label', 'cleaned', 'filtered', 'features']\n"
          ],
          "name": "stdout"
        }
      ]
    },
    {
      "cell_type": "code",
      "metadata": {
        "id": "H9QYopOgB1A4",
        "colab_type": "code",
        "colab": {}
      },
      "source": [
        "# print(trainingData.select('features').count(),len(trainingData.select('features')))"
      ],
      "execution_count": 0,
      "outputs": []
    },
    {
      "cell_type": "code",
      "metadata": {
        "id": "zU-ck1etB1A7",
        "colab_type": "code",
        "colab": {}
      },
      "source": [
        "lr = LogisticRegression(maxIter=20, regParam=0.3, elasticNetParam=0, family = \"binomial\")\n",
        "\n",
        "# Training\n",
        "lrModel = lr.fit(trainingData)"
      ],
      "execution_count": 0,
      "outputs": []
    },
    {
      "cell_type": "code",
      "metadata": {
        "id": "D2bmr9nwB1A9",
        "colab_type": "code",
        "colab": {},
        "outputId": "9dd22b26-c61a-4d3f-8428-d4ff79cd8ad8"
      },
      "source": [
        "\n",
        "\n",
        "trainingSummary = lrModel.summary\n",
        "\n",
        "# Objective per iteration\n",
        "objectiveHistory = trainingSummary.objectiveHistory\n",
        "plt.plot(objectiveHistory)\n",
        "plt.ylabel('Objective Function')\n",
        "plt.xlabel('Iteration')\n",
        "plt.show()"
      ],
      "execution_count": 0,
      "outputs": [
        {
          "output_type": "display_data",
          "data": {
            "image/png": "[encoded data removed]",
            "text/plain": [
              "<Figure size 432x288 with 1 Axes>"
            ]
          },
          "metadata": {
            "tags": [],
            "needs_background": "light"
          }
        }
      ]
    },
    {
      "cell_type": "code",
      "metadata": {
        "id": "R1okcDABB1BA",
        "colab_type": "code",
        "colab": {},
        "outputId": "e5b95b7c-61b6-4cc6-f0f4-8547a072706e"
      },
      "source": [
        "print(trainingSummary.objectiveHistory)"
      ],
      "execution_count": 0,
      "outputs": [
        {
          "output_type": "stream",
          "text": [
            "[0.19405166149254954, 0.15603793755271078, 0.1538699927256011, 0.15378596231022643, 0.15362451533888558, 0.15360862828609018, 0.15360343519908012, 0.1536024777164918, 0.15360241229299926, 0.15360240004877107, 0.15360236123692603, 0.153602319791525, 0.1536022954055393, 0.1536022603581047, 0.1536022568912326, 0.15360225664496743, 0.15360225664054028, 0.15360225664042623, 0.1536022566403958]\n"
          ],
          "name": "stdout"
        }
      ]
    },
    {
      "cell_type": "code",
      "metadata": {
        "id": "UnUHoLYpB1BC",
        "colab_type": "code",
        "colab": {},
        "outputId": "1fb96a02-2077-4126-d1cf-0815c5a7cdc2"
      },
      "source": [
        "predictions = lrModel.transform(testData)\n",
        "\n",
        "predictions.select(\"comment_text\",\"probability\").show(n=10, truncate=40)"
      ],
      "execution_count": 0,
      "outputs": [
        {
          "output_type": "stream",
          "text": [
            "+----------------------------------------+----------------------------------------+\n",
            "|                            comment_text|                             probability|\n",
            "+----------------------------------------+----------------------------------------+\n",
            "|\"\"\" It's as if Debbie Gibson had the ...|[0.9157812887416975,0.08421871125830252]|\n",
            "|\"\"\" oh yeah, ferguson\"\". Where all th...|[0.9333628699308161,0.06663713006918402]|\n",
            "|\"\"\"\"\"\"\"...There I found Captain J.K. ...|[0.9381415668365265,0.061858433163473...|\n",
            "|\"\"\"\"\"\"\"On september 1st, 1853 I left ...|[0.9842784495015903,0.015721550498409...|\n",
            "|\"\"\".... whose seemingly unstoppable r...|[0.9637217024884909,0.03627829751150915]|\n",
            "|\"\"\"......less than $15/hr\"\".......Thi...|[0.9558098417469151,0.044190158253084...|\n",
            "|\"\"\".....the release allowed folks inv...|[0.9660074108396679,0.03399258916033216]|\n",
            "|\"\"\"....crime of conspiring to impede ...|[0.9916633204320128,0.008336679567987...|\n",
            "|\"\"\"...and get into line with the lemm...|[0.9566394900780634,0.04336050992193663]|\n",
            "|\"\"\"...and shame on you Register Guard...|[0.9771342477389864,0.022865752261013...|\n",
            "+----------------------------------------+----------------------------------------+\n",
            "only showing top 10 rows\n",
            "\n"
          ],
          "name": "stdout"
        }
      ]
    },
    {
      "cell_type": "code",
      "metadata": {
        "id": "YRoeZUJCB1BE",
        "colab_type": "code",
        "colab": {},
        "outputId": "b2e9987a-1614-4591-9b46-43fcd93535cb"
      },
      "source": [
        "predictions.filter(predictions['prediction'] == 0).select(\"comment_text\",\"probability\",\"label\",\"prediction\").orderBy(\"probability\", ascending=False).show(n = 20, truncate = 30)"
      ],
      "execution_count": 0,
      "outputs": [
        {
          "output_type": "stream",
          "text": [
            "+------------------------------+------------------------------+-----+----------+\n",
            "|                  comment_text|                   probability|label|prediction|\n",
            "+------------------------------+------------------------------+-----+----------+\n",
            "|I'm not a big fan of either...|[0.9981108624034938,0.00188...|    0|       0.0|\n",
            "|Legislative Finance Directo...|[0.9972449844119523,0.00275...|    0|       0.0|\n",
            "|Legislative Finance Directo...|[0.9972449844119523,0.00275...|    0|       0.0|\n",
            "|Federal Child Safety Lock A...|[0.9970070946176336,0.00299...|    0|       0.0|\n",
            "|\"\"\"Available\"\" and required...|[0.9970023964436411,0.00299...|    0|       0.0|\n",
            "|Here you go..  “…banking, f...|[0.9968780761064091,0.00312...|    0|       0.0|\n",
            "|\"Greed = Hillary Clinton.  ...|[0.9967917162260787,0.00320...|    0|       0.0|\n",
            "|\"Part #2:  ...was more impo...|[0.9963637492166928,0.00363...|    0|       0.0|\n",
            "|\"By restricting your housin...|[0.9959766684886752,0.00402...|    0|       0.0|\n",
            "|Life is a bell curve.  We b...|[0.9956504292635783,0.00434...|    0|       0.0|\n",
            "|I see.  I have always found...|[0.9956449025157079,0.00435...|    0|       0.0|\n",
            "|The emergency shelter was a...|[0.9954943077116417,0.00450...|    0|       0.0|\n",
            "|\"The suggestion to raise th...|[0.9953794305694672,0.00462...|    0|       0.0|\n",
            "|There are two types of incl...|[0.9952817403872789,0.00471...|    0|       0.0|\n",
            "|mc, I think we have similar...|[0.995134741827634,0.004865...|    0|       0.0|\n",
            "|\"One approach is not going ...|[0.9949714417819325,0.00502...|    0|       0.0|\n",
            "|\"If we had a reasonable dis...|[0.9949409468521029,0.00505...|    0|       0.0|\n",
            "|Mr. Johnsen, My first quest...|[0.9948331483687698,0.00516...|    0|       0.0|\n",
            "|\"Not sure where definitions...|[0.9948117814234679,0.00518...|    0|       0.0|\n",
            "|It is so appalling how peop...|[0.9948022004802579,0.00519...|    0|       0.0|\n",
            "+------------------------------+------------------------------+-----+----------+\n",
            "only showing top 20 rows\n",
            "\n"
          ],
          "name": "stdout"
        }
      ]
    },
    {
      "cell_type": "code",
      "metadata": {
        "id": "DxZUoQGIB1BH",
        "colab_type": "code",
        "colab": {},
        "outputId": "b1df1006-ecb3-40da-85a8-af8432cd83de"
      },
      "source": [
        "from pyspark.ml.evaluation import MulticlassClassificationEvaluator\n",
        "\n",
        "evaluatorA = MulticlassClassificationEvaluator(metricName=\"accuracy\")\n",
        "acc=str(evaluatorA.evaluate(predictions, {evaluatorA.metricName: \"accuracy\"}))\n",
        "print(\"Logistic Regression Test: Accuracy: \" + acc)\n",
        "accuracies['LR']=acc\n"
      ],
      "execution_count": 0,
      "outputs": [
        {
          "output_type": "stream",
          "text": [
            "Logistic Regression Test: Accuracy: 0.9506081580538942\n"
          ],
          "name": "stdout"
        }
      ]
    },
    {
      "cell_type": "code",
      "metadata": {
        "scrolled": true,
        "id": "fF-I2ICiB1BI",
        "colab_type": "code",
        "colab": {},
        "outputId": "f807860f-db6e-47b6-b19b-4c2ac4adb60f"
      },
      "source": [
        "from pyspark.ml.evaluation import BinaryClassificationEvaluator\n",
        "print(\"Training: Area Under ROC: \" + str(trainingSummary.areaUnderROC))\n",
        "\n",
        "# Model Evaluation\n",
        "evaluator = BinaryClassificationEvaluator(rawPredictionCol=\"rawPrediction\")\n",
        "print(\"Test: Area Under ROC: \" + str(evaluator.evaluate(predictions, {evaluator.metricName: \"areaUnderROC\"})))"
      ],
      "execution_count": 0,
      "outputs": [
        {
          "output_type": "stream",
          "text": [
            "Training: Area Under ROC: 0.9786736966310631\n",
            "Test: Area Under ROC: 0.9117702860888715\n"
          ],
          "name": "stdout"
        }
      ]
    },
    {
      "cell_type": "code",
      "metadata": {
        "id": "tJG79d3YB1BM",
        "colab_type": "code",
        "colab": {}
      },
      "source": [
        "# predictions.select()"
      ],
      "execution_count": 0,
      "outputs": []
    },
    {
      "cell_type": "code",
      "metadata": {
        "id": "TkdCfY0tB1BO",
        "colab_type": "code",
        "colab": {}
      },
      "source": [
        "from pyspark.ml.classification import NaiveBayes\n",
        "\n",
        "# Naive Bayes classifier\n",
        "nb = NaiveBayes(smoothing=1, modelType=\"multinomial\")\n",
        "\n",
        "# train the model\n",
        "nbmodel = nb.fit(trainingData)"
      ],
      "execution_count": 0,
      "outputs": []
    },
    {
      "cell_type": "code",
      "metadata": {
        "id": "bqCRYqINB1BQ",
        "colab_type": "code",
        "colab": {},
        "outputId": "2c28b3f5-c124-471c-ac4a-954865a94fab"
      },
      "source": [
        "# Prediction on Test Data\n",
        "predictions_NB = nbmodel.transform(testData)\n",
        "predictions_NB.filter(predictions_NB['prediction'] == 0).select(\"comment_text\",\"probability\",\"label\",\"prediction\").orderBy(\"probability\", ascending=False).show(n = 20, truncate = 30)\n",
        "\n",
        "# Accuracy on test set\n",
        "evaluator = BinaryClassificationEvaluator(rawPredictionCol=\"prediction\")\n",
        "print(\"Test: Area Under ROC: \" + str(evaluator.evaluate(predictions_NB, {evaluator.metricName: \"areaUnderROC\"})))"
      ],
      "execution_count": 0,
      "outputs": [
        {
          "output_type": "stream",
          "text": [
            "+------------------------------+----------------------------+-----+----------+\n",
            "|                  comment_text|                 probability|label|prediction|\n",
            "+------------------------------+----------------------------+-----+----------+\n",
            "|By voting against the schoo...| [1.0,9.900780394491611E-17]|    0|       0.0|\n",
            "|Time to pay the bills for a...| [1.0,9.570464968802051E-17]|    0|       0.0|\n",
            "|Your specific claim is that...| [1.0,9.554182093380011E-17]|    0|       0.0|\n",
            "|If you think oil companies ...| [1.0,9.520761812833445E-17]|    0|       0.0|\n",
            "|From their own website:  Th...| [1.0,9.396237452933029E-17]|    0|       0.0|\n",
            "|\"Mr AK frost there is no fr...| [1.0,7.796543495712451E-17]|    0|       0.0|\n",
            "|3. Any additional funds mad...| [1.0,7.502284417400892E-17]|    0|       0.0|\n",
            "|The oil and gas industry ha...| [1.0,7.322751022658362E-17]|    0|       0.0|\n",
            "|\"Fair is an incredibly rela...| [1.0,6.948358564045826E-17]|    0|       0.0|\n",
            "|Health insurance costs woul...|  [1.0,6.76354752310366E-17]|    0|       0.0|\n",
            "|One could easily argue that...| [1.0,6.371845668423031E-17]|    0|       0.0|\n",
            "|\"My big interest here is - ...|  [1.0,6.03482617238775E-17]|    0|       0.0|\n",
            "|Anchorage, Fairbanks and th...| [1.0,5.990808771701962E-17]|    0|       0.0|\n",
            "|\"The Portland Association o...|  [1.0,5.87052778393619E-17]|    0|       0.0|\n",
            "|As I've posted before in re...| [1.0,5.702540693206685E-17]|    0|       0.0|\n",
            "|\"Did you say Anchorage spec...| [1.0,5.024167441765663E-17]|    0|       0.0|\n",
            "|“One of the primary reasons...|[1.0,4.8777978310804367E-17]|    0|       0.0|\n",
            "|Sue, I'm behind you 100%. P...| [1.0,4.392669022402819E-17]|    0|       0.0|\n",
            "|\"The current Saudi oil glut...| [1.0,4.357355952025103E-17]|    0|       0.0|\n",
            "|\"The minimum wage argument ...| [1.0,3.695481894887297E-17]|    0|       0.0|\n",
            "+------------------------------+----------------------------+-----+----------+\n",
            "only showing top 20 rows\n",
            "\n",
            "Test: Area Under ROC: 0.692853116074355\n"
          ],
          "name": "stdout"
        }
      ]
    },
    {
      "cell_type": "code",
      "metadata": {
        "id": "ffd0TElIB1BS",
        "colab_type": "code",
        "colab": {}
      },
      "source": [
        "\n",
        "evaluatorA = MulticlassClassificationEvaluator(metricName=\"accuracy\")\n",
        "# metrics = MulticlassMetrics(nbp)\n",
        "# print(metrics.confusionMatrix().toArray())"
      ],
      "execution_count": 0,
      "outputs": []
    },
    {
      "cell_type": "code",
      "metadata": {
        "scrolled": true,
        "id": "c_mVELBVB1BU",
        "colab_type": "code",
        "colab": {},
        "outputId": "8f77df16-32eb-453b-b59e-fdf771f5a805"
      },
      "source": [
        "testData.select('label').count()"
      ],
      "execution_count": 0,
      "outputs": [
        {
          "output_type": "execute_result",
          "data": {
            "text/plain": [
              "14881"
            ]
          },
          "metadata": {
            "tags": []
          },
          "execution_count": 48
        }
      ]
    },
    {
      "cell_type": "code",
      "metadata": {
        "id": "EgUlg4OfB1BX",
        "colab_type": "code",
        "colab": {},
        "outputId": "9c01aefa-abe4-436e-9afd-fa4859495c0f"
      },
      "source": [
        "predictions_NB.columns"
      ],
      "execution_count": 0,
      "outputs": [
        {
          "output_type": "execute_result",
          "data": {
            "text/plain": [
              "['comment_text',\n",
              " 'label',\n",
              " 'cleaned',\n",
              " 'filtered',\n",
              " 'features',\n",
              " 'rawPrediction',\n",
              " 'probability',\n",
              " 'prediction']"
            ]
          },
          "metadata": {
            "tags": []
          },
          "execution_count": 49
        }
      ]
    },
    {
      "cell_type": "code",
      "metadata": {
        "id": "d7iYo2fmB1BZ",
        "colab_type": "code",
        "colab": {},
        "outputId": "f109f1e1-7d2a-4c1b-abcc-a52562a14153"
      },
      "source": [
        "acc=str(evaluatorA.evaluate(predictions_NB, {evaluatorA.metricName: \"accuracy\"}))\n",
        "print(\"Naive Bayes Test: Accuracy: \" + acc)\n",
        "accuracies['NB']=acc"
      ],
      "execution_count": 0,
      "outputs": [
        {
          "output_type": "stream",
          "text": [
            "Naive Bayes Test: Accuracy: 0.9397889926752234\n"
          ],
          "name": "stdout"
        }
      ]
    },
    {
      "cell_type": "code",
      "metadata": {
        "id": "uJnc2Fb-B1Bb",
        "colab_type": "code",
        "colab": {}
      },
      "source": [
        "from pyspark.ml.classification import RandomForestClassifier\n",
        "\n",
        "# initial RandomForest model.\n",
        "rf = RandomForestClassifier(labelCol=\"label\",featuresCol=\"features\", numTrees = 50, maxDepth = 4, maxBins = 32)\n",
        "\n",
        "# Train model with Training Data\n",
        "rfModel = rf.fit(trainingData)"
      ],
      "execution_count": 0,
      "outputs": []
    },
    {
      "cell_type": "code",
      "metadata": {
        "id": "y8kVvoY6B1Be",
        "colab_type": "code",
        "colab": {},
        "outputId": "e115d33b-81d4-44d1-f7e9-1b70783daed9"
      },
      "source": [
        "predictions_RF = rfModel.transform(testData)\n",
        "\n",
        "predictions_RF.filter(predictions_RF['prediction'] == 0).select(\"comment_text\",\"probability\",\"label\",\"prediction\").orderBy(\"probability\", ascending=False) \\\n",
        "    .show(n = 10, truncate = 30)\n",
        "\n",
        "evaluator = BinaryClassificationEvaluator(rawPredictionCol=\"rawPrediction\")\n",
        "print(\"Test: Area Under ROC: \" + str(evaluator.evaluate(predictions_RF, {evaluator.metricName: \"areaUnderROC\"})))"
      ],
      "execution_count": 0,
      "outputs": [
        {
          "output_type": "stream",
          "text": [
            "+------------------------------+------------------------------+-----+----------+\n",
            "|                  comment_text|                   probability|label|prediction|\n",
            "+------------------------------+------------------------------+-----+----------+\n",
            "|There are consequences for ...|[0.9545485523028272,0.04545...|    0|       0.0|\n",
            "|\"Typo correction is a trick...|[0.9543713293259551,0.04562...|    0|       0.0|\n",
            "|Who didn't know that uber w...|[0.9542787576482816,0.04572...|    0|       0.0|\n",
            "|\"Wiles was completely on-po...|[0.9542787576482816,0.04572...|    0|       0.0|\n",
            "|So why do I support Democra...|[0.9542787576482816,0.04572...|    0|       0.0|\n",
            "|I agree with using PF earni...|[0.9542787576482816,0.04572...|    0|       0.0|\n",
            "|Oh yea, there is plenty of ...|[0.9542787576482816,0.04572...|    0|       0.0|\n",
            "|An income tax might - might...|[0.9542787576482816,0.04572...|    0|       0.0|\n",
            "|\"Tom Mitchell - so your alt...|[0.9542787576482816,0.04572...|    0|       0.0|\n",
            "|Using the POMV as set forth...|[0.9542787576482816,0.04572...|    0|       0.0|\n",
            "+------------------------------+------------------------------+-----+----------+\n",
            "only showing top 10 rows\n",
            "\n",
            "Test: Area Under ROC: 0.7300906026127266\n"
          ],
          "name": "stdout"
        }
      ]
    },
    {
      "cell_type": "code",
      "metadata": {
        "id": "zenJe5eXB1Bg",
        "colab_type": "code",
        "colab": {},
        "outputId": "19b5d90c-1711-40bc-9186-723d0f656eb4"
      },
      "source": [
        "\n",
        "evaluatorA = MulticlassClassificationEvaluator(metricName=\"accuracy\")\n",
        "acc=str(evaluatorA.evaluate(predictions_RF, {evaluatorA.metricName: \"accuracy\"}))\n",
        "print(\"Random Forest Test: Accuracy: \" + acc)\n",
        "\n",
        "accuracies['RF']=acc"
      ],
      "execution_count": 0,
      "outputs": [
        {
          "output_type": "stream",
          "text": [
            "Random Forest Test: Accuracy: 0.9491969625697197\n"
          ],
          "name": "stdout"
        }
      ]
    },
    {
      "cell_type": "code",
      "metadata": {
        "id": "LyTMFtNeB1Bi",
        "colab_type": "code",
        "colab": {}
      },
      "source": [
        "from pyspark.ml.classification import GBTClassifier\n",
        "\n",
        "# Train a GBT model.\n",
        "gbt = GBTClassifier(labelCol=\"label\", featuresCol=\"features\", maxIter=10)\n",
        "\n",
        "gbtmodel = gbt.fit(trainingData)"
      ],
      "execution_count": 0,
      "outputs": []
    },
    {
      "cell_type": "code",
      "metadata": {
        "id": "DvKbG5h0B1Bk",
        "colab_type": "code",
        "colab": {},
        "outputId": "bd2c934f-caa9-4f7a-b4eb-891b3be29f80"
      },
      "source": [
        "# Predictions\n",
        "predictions_gbt = gbtmodel.transform(testData)\n",
        "\n",
        "# test error\n",
        "evaluator = BinaryClassificationEvaluator(labelCol=\"label\",rawPredictionCol=\"prediction\")\n",
        "print(\"Test: Area Under ROC: \" + str(evaluator.evaluate(predictions_gbt, {evaluator.metricName: \"areaUnderROC\"})))"
      ],
      "execution_count": 0,
      "outputs": [
        {
          "output_type": "stream",
          "text": [
            "Test: Area Under ROC: 0.6166517301119071\n"
          ],
          "name": "stdout"
        }
      ]
    },
    {
      "cell_type": "code",
      "metadata": {
        "id": "1GUUnJmzB1Bl",
        "colab_type": "code",
        "colab": {},
        "outputId": "326d9b58-acaf-49d5-f187-b82a1c9ba720"
      },
      "source": [
        "\n",
        "evaluatorA = MulticlassClassificationEvaluator(metricName=\"accuracy\")\n",
        "acc= str(evaluatorA.evaluate(predictions_gbt, {evaluatorA.metricName: \"accuracy\"}))\n",
        "print(\"GBT Test: Accuracy: \" +acc)\n",
        "\n",
        "accuracies['GBT']=acc"
      ],
      "execution_count": 0,
      "outputs": [
        {
          "output_type": "stream",
          "text": [
            "GBT Test: Accuracy: 0.9579329346146093\n"
          ],
          "name": "stdout"
        }
      ]
    },
    {
      "cell_type": "code",
      "metadata": {
        "id": "B17z0ctdB1Bn",
        "colab_type": "code",
        "colab": {}
      },
      "source": [
        "from pyspark.ml.classification import LinearSVC\n",
        "#Linear SVM model\n",
        "lsvc = LinearSVC(maxIter=10, regParam=0.1)\n",
        "\n",
        "lsvcModel = lsvc.fit(trainingData)\n"
      ],
      "execution_count": 0,
      "outputs": []
    },
    {
      "cell_type": "code",
      "metadata": {
        "id": "wCnNqzkNB1Bp",
        "colab_type": "code",
        "colab": {},
        "outputId": "3709a804-78f2-4bdb-8667-df7a90f98913"
      },
      "source": [
        "# Predictions\n",
        "predictions_lvsc = lsvcModel.transform(testData)\n",
        "\n",
        "# test error\n",
        "evaluator = BinaryClassificationEvaluator(labelCol=\"label\", rawPredictionCol=\"prediction\")\n",
        "print(\"Test: Area Under ROC: \" + str(evaluator.evaluate(predictions_lvsc, {evaluator.metricName: \"areaUnderROC\"})))"
      ],
      "execution_count": 0,
      "outputs": [
        {
          "output_type": "stream",
          "text": [
            "Test: Area Under ROC: 0.6824241232382825\n"
          ],
          "name": "stdout"
        }
      ]
    },
    {
      "cell_type": "code",
      "metadata": {
        "id": "uB24rYIcB1Br",
        "colab_type": "code",
        "colab": {},
        "outputId": "b301bdda-556e-4290-f2b1-ee99f6fe9b30"
      },
      "source": [
        "from pyspark.ml.evaluation import MulticlassClassificationEvaluator\n",
        "\n",
        "evaluatorA = MulticlassClassificationEvaluator(metricName=\"accuracy\")\n",
        "acc= str(evaluatorA.evaluate(predictions_lvsc, {evaluatorA.metricName: \"accuracy\"}))\n",
        "print(\"SVM Test: Accuracy: \" +acc)\n",
        "accuracies['SVM']=acc"
      ],
      "execution_count": 0,
      "outputs": [
        {
          "output_type": "stream",
          "text": [
            "SVM Test: Accuracy: 0.9627713191317788\n"
          ],
          "name": "stdout"
        }
      ]
    },
    {
      "cell_type": "code",
      "metadata": {
        "id": "ZREvxvodB1Bt",
        "colab_type": "code",
        "colab": {}
      },
      "source": [
        "predictions_lr = lrModel.transform(trainingData)\n",
        "predictions_nb = nbmodel.transform(trainingData)\n",
        "predictions_rf = rfModel.transform(trainingData)\n",
        "predictions_gbt = gbtmodel.transform(trainingData)\n",
        "predictions_lsvc = lsvcModel.transform(trainingData)\n",
        "\n",
        "predictions_lr = predictions_lr.withColumnRenamed(\"prediction\", \"pred_LR\")\n",
        "predictions_nb = predictions_nb.withColumnRenamed(\"prediction\", \"pred_NB\")\n",
        "predictions_rf = predictions_rf.withColumnRenamed(\"prediction\", \"pred_RF\")\n",
        "predictions_gbt = predictions_gbt.withColumnRenamed(\"prediction\", \"pred_GBT\")\n",
        "predictions_lsvc = predictions_lsvc.withColumnRenamed(\"prediction\", \"pred_LSVC\")"
      ],
      "execution_count": 0,
      "outputs": []
    },
    {
      "cell_type": "code",
      "metadata": {
        "id": "DE2bkD90B1Bu",
        "colab_type": "code",
        "colab": {}
      },
      "source": [
        "tempA = predictions_lr.toPandas()[['label','pred_LR']].to_numpy()\n",
        "temp_nb = predictions_nb.toPandas()[['pred_NB']].to_numpy()\n",
        "temp_rf = predictions_rf.toPandas()[['pred_RF']].to_numpy()\n",
        "temp_gbt = predictions_gbt.toPandas()[['pred_GBT']].to_numpy()\n",
        "temp_lsvc = predictions_lsvc.toPandas()[['pred_LSVC']].to_numpy()"
      ],
      "execution_count": 0,
      "outputs": []
    },
    {
      "cell_type": "code",
      "metadata": {
        "id": "Pj3IcS8zB1Bv",
        "colab_type": "code",
        "colab": {}
      },
      "source": [
        "import numpy as np\n",
        "\n",
        "tempA=np.append(tempA, temp_nb, 1)\n",
        "tempA=np.append(tempA, temp_rf, 1)\n",
        "tempA=np.append(tempA, temp_gbt, 1)\n",
        "tempA=np.append(tempA, temp_lsvc, 1)"
      ],
      "execution_count": 0,
      "outputs": []
    },
    {
      "cell_type": "code",
      "metadata": {
        "id": "8gcENmtBB1Bx",
        "colab_type": "code",
        "colab": {},
        "outputId": "315fc3e8-ff10-4283-9723-85053f3fd326"
      },
      "source": [
        "rdd1 = sc.parallelize(tempA)\n",
        "rdd2 = rdd1.map(lambda x: [int(i) for i in x])\n",
        "train_df = rdd2.toDF([\"label\", \"pred_LR\",\"pred_NB\",\"pred_RF\",\"pred_GBT\",\"pred_LSVC\"])\n",
        "train_df.count()"
      ],
      "execution_count": 0,
      "outputs": [
        {
          "output_type": "execute_result",
          "data": {
            "text/plain": [
              "35119"
            ]
          },
          "metadata": {
            "tags": []
          },
          "execution_count": 63
        }
      ]
    },
    {
      "cell_type": "code",
      "metadata": {
        "id": "kXYTJoHrB1By",
        "colab_type": "code",
        "colab": {}
      },
      "source": [
        "train_df.show()"
      ],
      "execution_count": 0,
      "outputs": []
    },
    {
      "cell_type": "code",
      "metadata": {
        "id": "vVfpLxAPB1B0",
        "colab_type": "code",
        "colab": {},
        "outputId": "6debba71-6476-4bf0-957e-224b03676adf"
      },
      "source": [
        "predictions_lr = lrModel.transform(testData)\n",
        "predictions_nb = nbmodel.transform(testData)\n",
        "predictions_rf = rfModel.transform(testData)\n",
        "predictions_gbt = gbtmodel.transform(testData)\n",
        "predictions_lsvc = lsvcModel.transform(testData)\n",
        "\n",
        "predictions_lr = predictions_lr.withColumnRenamed(\"prediction\", \"pred_LR\")\n",
        "predictions_nb = predictions_nb.withColumnRenamed(\"prediction\", \"pred_NB\")\n",
        "predictions_rf = predictions_rf.withColumnRenamed(\"prediction\", \"pred_RF\")\n",
        "predictions_gbt = predictions_gbt.withColumnRenamed(\"prediction\", \"pred_GBT\")\n",
        "predictions_lsvc = predictions_lsvc.withColumnRenamed(\"prediction\", \"pred_LSVC\")\n",
        "\n",
        "tempA = predictions_lr.toPandas()[['label','pred_LR']].to_numpy()\n",
        "temp_nb = predictions_nb.toPandas()[['pred_NB']].to_numpy()\n",
        "temp_rf = predictions_rf.toPandas()[['pred_RF']].to_numpy()\n",
        "temp_gbt = predictions_gbt.toPandas()[['pred_GBT']].to_numpy()\n",
        "temp_lsvc = predictions_lsvc.toPandas()[['pred_LSVC']].to_numpy()\n",
        "\n",
        "\n",
        "tempA=np.append(tempA, temp_nb, 1)\n",
        "tempA=np.append(tempA, temp_rf, 1)\n",
        "tempA=np.append(tempA, temp_gbt, 1)\n",
        "tempA=np.append(tempA, temp_lsvc, 1)\n",
        "\n",
        "rdd1 = sc.parallelize(tempA)\n",
        "rdd2 = rdd1.map(lambda x: [int(i) for i in x])\n",
        "test_df = rdd2.toDF([\"label\", \"pred_LR\",\"pred_NB\",\"pred_RF\",\"pred_GBT\",\"pred_LSVC\"])\n",
        "test_df.count()"
      ],
      "execution_count": 0,
      "outputs": [
        {
          "output_type": "execute_result",
          "data": {
            "text/plain": [
              "14881"
            ]
          },
          "metadata": {
            "tags": []
          },
          "execution_count": 64
        }
      ]
    },
    {
      "cell_type": "code",
      "metadata": {
        "id": "eoNnlystB1B1",
        "colab_type": "code",
        "colab": {}
      },
      "source": [
        "from pyspark.ml.linalg import Vectors\n",
        "from pyspark.ml.feature import VectorAssembler\n",
        "\n",
        "assembler = VectorAssembler(\n",
        "    inputCols=[\"pred_LR\",\"pred_NB\",\"pred_RF\",\"pred_GBT\",\"pred_LSVC\"],\n",
        "    outputCol=\"features\")\n",
        "\n",
        "metaTrData = assembler.transform(train_df)\n",
        "metaTsData = assembler.transform(test_df)\n",
        "# metaTrData = metaTrData.withColumn('label',df['label'])"
      ],
      "execution_count": 0,
      "outputs": []
    },
    {
      "cell_type": "code",
      "metadata": {
        "id": "LVVZ1WIjB1B6",
        "colab_type": "code",
        "colab": {}
      },
      "source": [
        "#Meta Learner\n",
        "metalr = LogisticRegression(maxIter=20, regParam=0.3, elasticNetParam=0.8, family = \"binomial\")\n",
        "\n",
        "# Training\n",
        "metalrModel = metalr.fit(metaTrData)"
      ],
      "execution_count": 0,
      "outputs": []
    },
    {
      "cell_type": "code",
      "metadata": {
        "collapsed": true,
        "id": "KiQaj1M1B1B7",
        "colab_type": "code",
        "colab": {},
        "outputId": "c7712945-d0b9-4aa6-aebd-abf7836df8da"
      },
      "source": [
        "# Predictions\n",
        "predictions_meta = metalrModel.transform(metaTsData)\n",
        "\n",
        "# test error\n",
        "evaluator = BinaryClassificationEvaluator(labelCol=\"label\", rawPredictionCol=\"prediction\")\n",
        "print(\"Test: Area Under ROC: \" + str(evaluator.evaluate(predictions_meta, {evaluator.metricName: \"areaUnderROC\"})))"
      ],
      "execution_count": 0,
      "outputs": [
        {
          "output_type": "stream",
          "text": [
            "Test: Area Under ROC: 0.5\n"
          ],
          "name": "stdout"
        }
      ]
    },
    {
      "cell_type": "code",
      "metadata": {
        "id": "uKpuEnjzB1B-",
        "colab_type": "code",
        "colab": {},
        "outputId": "d93c6262-6e30-4746-aae0-8a5be0e68b5c"
      },
      "source": [
        "predictions_meta.count()"
      ],
      "execution_count": 0,
      "outputs": [
        {
          "output_type": "execute_result",
          "data": {
            "text/plain": [
              "14881"
            ]
          },
          "metadata": {
            "tags": []
          },
          "execution_count": 68
        }
      ]
    },
    {
      "cell_type": "code",
      "metadata": {
        "id": "t3JCGsbsB1B_",
        "colab_type": "code",
        "colab": {},
        "outputId": "8479957a-ee0e-484f-d8bb-a215cc149efe"
      },
      "source": [
        "evaluatorA = MulticlassClassificationEvaluator(metricName=\"accuracy\")\n",
        "acc=str(evaluatorA.evaluate(predictions_meta, {evaluatorA.metricName: \"accuracy\"}))\n",
        "print(\"Meta Learner Test: Accuracy: \" + str(evaluatorA.evaluate(predictions_meta, {evaluatorA.metricName: \"accuracy\"})))\n",
        "accuracies['Meta']=acc"
      ],
      "execution_count": 0,
      "outputs": [
        {
          "output_type": "stream",
          "text": [
            "Meta Learner Test: Accuracy: 0.9491969625697197\n"
          ],
          "name": "stdout"
        }
      ]
    },
    {
      "cell_type": "code",
      "metadata": {
        "id": "uAaV7xigB1CB",
        "colab_type": "code",
        "colab": {}
      },
      "source": [
        "# metaTrData.write.parquet('C:\\\\Users\\\\raoti\\\\Documents\\\\NYU\\\\Classes\\\\Big Data\\\\project\\\\metaInputTr')\n",
        "# metaTsData.write.parquet('C:\\\\Users\\\\raoti\\\\Documents\\\\NYU\\\\Classes\\\\Big Data\\\\project\\\\metaInputTs')"
      ],
      "execution_count": 0,
      "outputs": []
    },
    {
      "cell_type": "code",
      "metadata": {
        "id": "qFdpHL2yB1CC",
        "colab_type": "code",
        "colab": {}
      },
      "source": [
        "# savetrain= metaTrData.toPandas()\n",
        "# savetest= metaTsData.toPandas()"
      ],
      "execution_count": 0,
      "outputs": []
    },
    {
      "cell_type": "code",
      "metadata": {
        "id": "iXdy3G8MB1CE",
        "colab_type": "code",
        "colab": {},
        "outputId": "7e1de573-cd39-4cfc-fdb9-8bcd661c319a"
      },
      "source": [
        "metaTrData.columns"
      ],
      "execution_count": 0,
      "outputs": [
        {
          "output_type": "execute_result",
          "data": {
            "text/plain": [
              "['label', 'pred_LR', 'pred_NB', 'pred_RF', 'pred_GBT', 'pred_LSVC', 'features']"
            ]
          },
          "metadata": {
            "tags": []
          },
          "execution_count": 70
        }
      ]
    },
    {
      "cell_type": "code",
      "metadata": {
        "id": "tgv3QZfSB1CF",
        "colab_type": "code",
        "colab": {}
      },
      "source": [
        "# savetrain.to_csv(\"C:\\\\Users\\\\raoti\\\\Documents\\\\NYU\\\\Classes\\\\Big Data\\\\project\\\\metaInputTr_sample.tsv\",sep='\\t',index=False)\n",
        "# savetest.to_csv(\"C:\\\\Users\\\\raoti\\\\Documents\\\\NYU\\\\Classes\\\\Big Data\\\\project\\\\metaInputTs_sample.tsv\",sep='\\t',index=False)"
      ],
      "execution_count": 0,
      "outputs": []
    },
    {
      "cell_type": "code",
      "metadata": {
        "id": "5L4ifevgB1CI",
        "colab_type": "code",
        "colab": {},
        "outputId": "e8bcc91c-8216-45d1-9e77-5aba33155359"
      },
      "source": [
        "import matplotlib.pyplot as plt\n",
        "\n",
        "\n",
        "plt.bar(range(len(accuracies)), list(accuracies.values()), align='center')\n",
        "plt.xticks(range(len(accuracies)), list(accuracies.keys()))\n",
        "# # for python 2.x:\n",
        "# plt.bar(range(len(D)), D.values(), align='center')  # python 2.x\n",
        "# plt.xticks(range(len(D)), D.keys())  # in python 2.x\n",
        "\n",
        "plt.show()"
      ],
      "execution_count": 0,
      "outputs": [
        {
          "output_type": "display_data",
          "data": {
            "image/png": "[encoded data removed]",
            "text/plain": [
              "<Figure size 432x288 with 1 Axes>"
            ]
          },
          "metadata": {
            "tags": [],
            "needs_background": "light"
          }
        }
      ]
    },
    {
      "cell_type": "code",
      "metadata": {
        "id": "s6cWiIZlB1CJ",
        "colab_type": "code",
        "colab": {}
      },
      "source": [
        ""
      ],
      "execution_count": 0,
      "outputs": []
    }
  ]
}