{
  "nbformat": 4,
  "nbformat_minor": 0,
  "metadata": {
    "colab": {
      "name": "toxicity_baseline.ipynb",
      "version": "0.3.2",
      "provenance": [],
      "collapsed_sections": []
    },
    "language_info": {
      "codemirror_mode": {
        "name": "ipython",
        "version": 3
      },
      "file_extension": ".py",
      "mimetype": "text/x-python",
      "name": "python",
      "nbconvert_exporter": "python",
      "pygments_lexer": "ipython3",
      "version": "3.6.4"
    },
    "kernelspec": {
      "display_name": "Python 3",
      "language": "python",
      "name": "python3"
    }
  },
  "cells": [
    {
      "cell_type": "code",
      "metadata": {
        "_cell_guid": "b1076dfc-b9ad-4769-8c92-a6c4dae69d19",
        "_uuid": "8f2839f25d086af736a60e9eeb907d3b93b6e0e5",
        "id": "DiJNnDoaVO_u",
        "colab_type": "code",
        "outputId": "4dc7f568-d01a-442a-a35c-456b9ae5e864",
        "colab": {}
      },
      "source": [
        "#####\n",
        "# Description: Main train Script for SVM model\n",
        "# Author: Tirupal Rao Ravilla\n",
        "# Date: 05/2019\n",
        "#####\n",
        "import numpy as np\n",
        "import pandas as pd \n",
        "import tensorflow as tf\n",
        "\n",
        "from keras.preprocessing.text import Tokenizer\n",
        "from keras.preprocessing.sequence import pad_sequences\n",
        "from keras.models import Sequential\n",
        "from keras.layers import Dense, Flatten, LSTM, Conv1D, MaxPooling1D, Dropout, Activation, CuDNNLSTM, Bidirectional\n",
        "from keras.layers.embeddings import Embedding\n",
        "# from tensorflow.keras.backend import set_session\n",
        "import keras.backend as K\n",
        "import nltk\n",
        "import string\n",
        "import re\n",
        "\n",
        "import os\n",
        "print(os.listdir(\"../input\"))\n",
        "\n",
        "# Any results you write to the current directory are saved as output."
      ],
      "execution_count": 0,
      "outputs": [
        {
          "output_type": "stream",
          "text": [
            "Using TensorFlow backend.\n"
          ],
          "name": "stderr"
        },
        {
          "output_type": "stream",
          "text": [
            "['sample_submission.csv', 'test.csv', 'train.csv']\n"
          ],
          "name": "stdout"
        }
      ]
    },
    {
      "cell_type": "code",
      "metadata": {
        "_cell_guid": "79c7e3d0-c299-4dcb-8224-4455121ee9b0",
        "_uuid": "d629ff2d2480ee46fbb7e2d37f6b5fab8052498a",
        "id": "sRyejROjVO_z",
        "colab_type": "code",
        "colab": {}
      },
      "source": [
        "df = pd.read_csv('../input/train.csv')"
      ],
      "execution_count": 0,
      "outputs": []
    },
    {
      "cell_type": "code",
      "metadata": {
        "id": "Gj6DrGJaVO_1",
        "colab_type": "code",
        "colab": {}
      },
      "source": [
        "def binary(y):\n",
        "  if y>=0.5:\n",
        "      return 1\n",
        "  else:\n",
        "      return 0\n",
        "def preprocess(text):\n",
        "  text = re.sub(r'\\W+',' ',text.lower())\n",
        "  return text"
      ],
      "execution_count": 0,
      "outputs": []
    },
    {
      "cell_type": "code",
      "metadata": {
        "id": "LCeVmoIcVO_3",
        "colab_type": "code",
        "outputId": "431117f1-1cc5-4bf6-8c61-054aa1435780",
        "colab": {}
      },
      "source": [
        "df.shape"
      ],
      "execution_count": 0,
      "outputs": [
        {
          "output_type": "execute_result",
          "data": {
            "text/plain": [
              "(1804874, 45)"
            ]
          },
          "metadata": {
            "tags": []
          },
          "execution_count": 4
        }
      ]
    },
    {
      "cell_type": "code",
      "metadata": {
        "id": "mO1EY8tXVO_6",
        "colab_type": "code",
        "colab": {}
      },
      "source": [
        "x = df['comment_text'].apply(preprocess)\n",
        "y = df['target'].apply(binary)"
      ],
      "execution_count": 0,
      "outputs": []
    },
    {
      "cell_type": "code",
      "metadata": {
        "id": "bZXKypICVO_8",
        "colab_type": "code",
        "outputId": "9883c8cc-e78c-49b2-e02c-5971caac4a2d",
        "colab": {}
      },
      "source": [
        "print(x.head())\n",
        "print(y.head())\n",
        "print(len(x),len(y))"
      ],
      "execution_count": 0,
      "outputs": [
        {
          "output_type": "stream",
          "text": [
            "0    this is so cool it s like would you want your ...\n",
            "1    thank you this would make my life a lot less a...\n",
            "2    this is such an urgent design problem kudos to...\n",
            "3    is this something i ll be able to install on m...\n",
            "4                 haha you guys are a bunch of losers \n",
            "Name: comment_text, dtype: object\n",
            "0    0\n",
            "1    0\n",
            "2    0\n",
            "3    0\n",
            "4    1\n",
            "Name: target, dtype: int64\n",
            "1804874 1804874\n"
          ],
          "name": "stdout"
        }
      ]
    },
    {
      "cell_type": "code",
      "metadata": {
        "id": "nij34Z14VO__",
        "colab_type": "code",
        "colab": {}
      },
      "source": [
        "tokenizer = Tokenizer()\n",
        "tokenizer.fit_on_texts(x)"
      ],
      "execution_count": 0,
      "outputs": []
    },
    {
      "cell_type": "code",
      "metadata": {
        "id": "YVFhuiDMVPAC",
        "colab_type": "code",
        "outputId": "5f26145a-b42d-4b1f-f778-040b2239ca83",
        "colab": {}
      },
      "source": [
        "vocabulary_size = len(tokenizer.word_index)\n",
        "print(vocabulary_size)"
      ],
      "execution_count": 0,
      "outputs": [
        {
          "output_type": "stream",
          "text": [
            "309011\n"
          ],
          "name": "stdout"
        }
      ]
    },
    {
      "cell_type": "code",
      "metadata": {
        "id": "ncEBMQmfVPAE",
        "colab_type": "code",
        "outputId": "9a6e78da-fe44-4142-a371-d03b637109ff",
        "colab": {}
      },
      "source": [
        "sequences = tokenizer.texts_to_sequences(x)\n",
        "tr_data = pad_sequences(sequences, maxlen=145)\n",
        "\n",
        "print(len(tr_data))"
      ],
      "execution_count": 0,
      "outputs": [
        {
          "output_type": "stream",
          "text": [
            "1804874\n"
          ],
          "name": "stdout"
        }
      ]
    },
    {
      "cell_type": "code",
      "metadata": {
        "id": "Jv1RHqjHVPAI",
        "colab_type": "code",
        "colab": {}
      },
      "source": [
        "from sklearn.model_selection import train_test_split\n",
        "x_train,x_test,y_train,y_test = train_test_split(tr_data,y,test_size = 0.25,random_state = 42)"
      ],
      "execution_count": 0,
      "outputs": []
    },
    {
      "cell_type": "code",
      "metadata": {
        "id": "UHuq75t5VPAK",
        "colab_type": "code",
        "outputId": "98dadd1c-8954-4395-c8f1-32ae7f2a3c28",
        "colab": {}
      },
      "source": [
        "K.clear_session()\n",
        "model = Sequential()\n",
        "model.add(Embedding(vocabulary_size, 145, input_length=145))\n",
        "model.add(LSTM(145, dropout=0.2, recurrent_dropout=0.2))\n",
        "model.add(Dense(1, activation='sigmoid'))\n",
        "model.compile(loss='binary_crossentropy', optimizer='adam', metrics=['accuracy'])\n",
        "\n",
        "# model.fit(tr_data, y, validation_split=0.25, epochs=3,batch_size=128)\n",
        "model.fit(x_train, y_train, validation_data=(x_test,y_test), epochs=3,batch_size=5000)"
      ],
      "execution_count": 0,
      "outputs": [
        {
          "output_type": "stream",
          "text": [
            "WARNING:tensorflow:From /opt/conda/lib/python3.6/site-packages/tensorflow/python/framework/op_def_library.py:263: colocate_with (from tensorflow.python.framework.ops) is deprecated and will be removed in a future version.\n",
            "Instructions for updating:\n",
            "Colocations handled automatically by placer.\n",
            "WARNING:tensorflow:From /opt/conda/lib/python3.6/site-packages/keras/backend/tensorflow_backend.py:3445: calling dropout (from tensorflow.python.ops.nn_ops) with keep_prob is deprecated and will be removed in a future version.\n",
            "Instructions for updating:\n",
            "Please use `rate` instead of `keep_prob`. Rate should be set to `rate = 1 - keep_prob`.\n",
            "WARNING:tensorflow:From /opt/conda/lib/python3.6/site-packages/tensorflow/python/ops/math_ops.py:3066: to_int32 (from tensorflow.python.ops.math_ops) is deprecated and will be removed in a future version.\n",
            "Instructions for updating:\n",
            "Use tf.cast instead.\n",
            "Train on 1353655 samples, validate on 451219 samples\n",
            "Epoch 1/3\n",
            "1353655/1353655 [==============================] - 181s 134us/step - loss: 0.2106 - acc: 0.9329 - val_loss: 0.1408 - val_acc: 0.9472\n",
            "Epoch 2/3\n",
            "1353655/1353655 [==============================] - 176s 130us/step - loss: 0.1319 - acc: 0.9493 - val_loss: 0.1332 - val_acc: 0.9490\n",
            "Epoch 3/3\n",
            "1353655/1353655 [==============================] - 176s 130us/step - loss: 0.1224 - acc: 0.9516 - val_loss: 0.1303 - val_acc: 0.9496\n"
          ],
          "name": "stdout"
        },
        {
          "output_type": "execute_result",
          "data": {
            "text/plain": [
              "<keras.callbacks.History at 0x7f1b7dbe5e80>"
            ]
          },
          "metadata": {
            "tags": []
          },
          "execution_count": 11
        }
      ]
    },
    {
      "cell_type": "code",
      "metadata": {
        "id": "YBvF2AveVPAN",
        "colab_type": "code",
        "colab": {}
      },
      "source": [
        "test= pd.read_csv('../input/test.csv')\n",
        "xt = test['comment_text'].apply(preprocess)\n",
        "sequences = tokenizer.texts_to_sequences(xt)\n",
        "ts_data = pad_sequences(sequences, maxlen=145)\n",
        "\n"
      ],
      "execution_count": 0,
      "outputs": []
    },
    {
      "cell_type": "code",
      "metadata": {
        "id": "FIGEBT5yVPAP",
        "colab_type": "code",
        "colab": {}
      },
      "source": [
        "yts= model.predict(ts_data)"
      ],
      "execution_count": 0,
      "outputs": []
    },
    {
      "cell_type": "code",
      "metadata": {
        "id": "_f4gDNFyVPAR",
        "colab_type": "code",
        "outputId": "07667b41-cb9f-4b5e-b2e0-c1e554073b28",
        "colab": {}
      },
      "source": [
        "print(yts[:10])"
      ],
      "execution_count": 0,
      "outputs": [
        {
          "output_type": "stream",
          "text": [
            "[[1.3470352e-03]\n",
            " [6.7734718e-04]\n",
            " [6.5582991e-04]\n",
            " [7.8621507e-04]\n",
            " [9.1255534e-01]\n",
            " [1.9651651e-04]\n",
            " [1.4633238e-03]\n",
            " [6.2867999e-03]\n",
            " [5.6406915e-02]\n",
            " [1.1658669e-03]]\n"
          ],
          "name": "stdout"
        }
      ]
    },
    {
      "cell_type": "code",
      "metadata": {
        "id": "qrfQxF_4VPAU",
        "colab_type": "code",
        "outputId": "1ebf6b38-ecc8-4537-c6ab-e6efe401b1b1",
        "colab": {}
      },
      "source": [
        "submission = pd.DataFrame([test['id']]).T\n",
        "submission['prediction'] = yts\n",
        "print(submission.head())"
      ],
      "execution_count": 0,
      "outputs": [
        {
          "output_type": "stream",
          "text": [
            "        id  prediction\n",
            "0  7000000    0.001347\n",
            "1  7000001    0.000677\n",
            "2  7000002    0.000656\n",
            "3  7000003    0.000786\n",
            "4  7000004    0.912555\n"
          ],
          "name": "stdout"
        }
      ]
    },
    {
      "cell_type": "code",
      "metadata": {
        "id": "kbU5mmeSVPAY",
        "colab_type": "code",
        "colab": {}
      },
      "source": [
        "submission.to_csv('submission.csv', index=False)"
      ],
      "execution_count": 0,
      "outputs": []
    }
  ]
}